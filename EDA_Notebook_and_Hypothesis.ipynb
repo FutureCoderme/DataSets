{
 "cells": [
  {
   "cell_type": "markdown",
   "id": "4cec344f",
   "metadata": {},
   "source": [
    "# G2M insight for Cab Investment firm ( Must for all Specialization)\n"
   ]
  },
  {
   "cell_type": "markdown",
   "id": "d788b70d",
   "metadata": {},
   "source": [
    "# EDA section"
   ]
  },
  {
   "cell_type": "code",
   "execution_count": 1,
   "id": "66145bda",
   "metadata": {},
   "outputs": [],
   "source": [
    "import numpy as npy\n",
    "import pandas as pan\n",
    "import matplotlib.pyplot as matplt\n",
    "%matplotlib inline\n",
    "import seaborn as sea\n",
    "import datetime\n",
    "from scipy.stats import ttest_1samp"
   ]
  },
  {
   "cell_type": "code",
   "execution_count": 2,
   "id": "611ba2fa",
   "metadata": {},
   "outputs": [],
   "source": [
    "Cab_Data = pan.read_csv(\"/home/coder_me_ilyas/DataSets-main/Cab_Data.csv\")\n",
    "City = pan.read_csv(\"/home/coder_me_ilyas/DataSets-main/City.csv\")\n",
    "Customer_ID = pan.read_csv(\"/home/coder_me_ilyas/DataSets-main/Customer_ID.csv\")\n",
    "Transaction_ID = pan.read_csv(\"/home/coder_me_ilyas/DataSets-main/Transaction_ID.csv\")\n"
   ]
  },
  {
   "cell_type": "code",
   "execution_count": 3,
   "id": "8e81812a",
   "metadata": {},
   "outputs": [
    {
     "data": {
      "text/html": [
       "<div>\n",
       "<style scoped>\n",
       "    .dataframe tbody tr th:only-of-type {\n",
       "        vertical-align: middle;\n",
       "    }\n",
       "\n",
       "    .dataframe tbody tr th {\n",
       "        vertical-align: top;\n",
       "    }\n",
       "\n",
       "    .dataframe thead th {\n",
       "        text-align: right;\n",
       "    }\n",
       "</style>\n",
       "<table border=\"1\" class=\"dataframe\">\n",
       "  <thead>\n",
       "    <tr style=\"text-align: right;\">\n",
       "      <th></th>\n",
       "      <th>Transaction ID</th>\n",
       "      <th>Date of Travel</th>\n",
       "      <th>Company</th>\n",
       "      <th>City</th>\n",
       "      <th>KM Travelled</th>\n",
       "      <th>Price Charged</th>\n",
       "      <th>Cost of Trip</th>\n",
       "    </tr>\n",
       "  </thead>\n",
       "  <tbody>\n",
       "    <tr>\n",
       "      <th>0</th>\n",
       "      <td>10000011</td>\n",
       "      <td>01/08/16</td>\n",
       "      <td>Pink Cab</td>\n",
       "      <td>ATLANTA GA</td>\n",
       "      <td>30.45</td>\n",
       "      <td>370.95</td>\n",
       "      <td>313.635</td>\n",
       "    </tr>\n",
       "    <tr>\n",
       "      <th>1</th>\n",
       "      <td>10000012</td>\n",
       "      <td>01/06/16</td>\n",
       "      <td>Pink Cab</td>\n",
       "      <td>ATLANTA GA</td>\n",
       "      <td>28.62</td>\n",
       "      <td>358.52</td>\n",
       "      <td>334.854</td>\n",
       "    </tr>\n",
       "    <tr>\n",
       "      <th>2</th>\n",
       "      <td>10000013</td>\n",
       "      <td>01/02/16</td>\n",
       "      <td>Pink Cab</td>\n",
       "      <td>ATLANTA GA</td>\n",
       "      <td>9.04</td>\n",
       "      <td>125.20</td>\n",
       "      <td>97.632</td>\n",
       "    </tr>\n",
       "    <tr>\n",
       "      <th>3</th>\n",
       "      <td>10000014</td>\n",
       "      <td>01/07/16</td>\n",
       "      <td>Pink Cab</td>\n",
       "      <td>ATLANTA GA</td>\n",
       "      <td>33.17</td>\n",
       "      <td>377.40</td>\n",
       "      <td>351.602</td>\n",
       "    </tr>\n",
       "    <tr>\n",
       "      <th>4</th>\n",
       "      <td>10000015</td>\n",
       "      <td>01/03/16</td>\n",
       "      <td>Pink Cab</td>\n",
       "      <td>ATLANTA GA</td>\n",
       "      <td>8.73</td>\n",
       "      <td>114.62</td>\n",
       "      <td>97.776</td>\n",
       "    </tr>\n",
       "  </tbody>\n",
       "</table>\n",
       "</div>"
      ],
      "text/plain": [
       "   Transaction ID Date of Travel   Company        City  KM Travelled  \\\n",
       "0        10000011       01/08/16  Pink Cab  ATLANTA GA         30.45   \n",
       "1        10000012       01/06/16  Pink Cab  ATLANTA GA         28.62   \n",
       "2        10000013       01/02/16  Pink Cab  ATLANTA GA          9.04   \n",
       "3        10000014       01/07/16  Pink Cab  ATLANTA GA         33.17   \n",
       "4        10000015       01/03/16  Pink Cab  ATLANTA GA          8.73   \n",
       "\n",
       "   Price Charged  Cost of Trip  \n",
       "0         370.95       313.635  \n",
       "1         358.52       334.854  \n",
       "2         125.20        97.632  \n",
       "3         377.40       351.602  \n",
       "4         114.62        97.776  "
      ]
     },
     "execution_count": 3,
     "metadata": {},
     "output_type": "execute_result"
    }
   ],
   "source": [
    "Cab_Data.head()"
   ]
  },
  {
   "cell_type": "code",
   "execution_count": 4,
   "id": "fa9d415e",
   "metadata": {},
   "outputs": [
    {
     "name": "stdout",
     "output_type": "stream",
     "text": [
      "<class 'pandas.core.frame.DataFrame'>\n",
      "RangeIndex: 359392 entries, 0 to 359391\n",
      "Data columns (total 7 columns):\n",
      " #   Column          Non-Null Count   Dtype  \n",
      "---  ------          --------------   -----  \n",
      " 0   Transaction ID  359392 non-null  int64  \n",
      " 1   Date of Travel  359392 non-null  object \n",
      " 2   Company         359392 non-null  object \n",
      " 3   City            359392 non-null  object \n",
      " 4   KM Travelled    359392 non-null  float64\n",
      " 5   Price Charged   359392 non-null  float64\n",
      " 6   Cost of Trip    359392 non-null  float64\n",
      "dtypes: float64(3), int64(1), object(3)\n",
      "memory usage: 19.2+ MB\n"
     ]
    }
   ],
   "source": [
    "Cab_Data.info()"
   ]
  },
  {
   "cell_type": "code",
   "execution_count": 5,
   "id": "c4af39f5",
   "metadata": {},
   "outputs": [
    {
     "data": {
      "text/html": [
       "<div>\n",
       "<style scoped>\n",
       "    .dataframe tbody tr th:only-of-type {\n",
       "        vertical-align: middle;\n",
       "    }\n",
       "\n",
       "    .dataframe tbody tr th {\n",
       "        vertical-align: top;\n",
       "    }\n",
       "\n",
       "    .dataframe thead th {\n",
       "        text-align: right;\n",
       "    }\n",
       "</style>\n",
       "<table border=\"1\" class=\"dataframe\">\n",
       "  <thead>\n",
       "    <tr style=\"text-align: right;\">\n",
       "      <th></th>\n",
       "      <th>Transaction ID</th>\n",
       "      <th>Date of Travel</th>\n",
       "      <th>Company</th>\n",
       "      <th>City</th>\n",
       "      <th>KM Travelled</th>\n",
       "      <th>Price Charged</th>\n",
       "      <th>Cost of Trip</th>\n",
       "    </tr>\n",
       "  </thead>\n",
       "  <tbody>\n",
       "    <tr>\n",
       "      <th>359387</th>\n",
       "      <td>10440101</td>\n",
       "      <td>01/08/18</td>\n",
       "      <td>Yellow Cab</td>\n",
       "      <td>WASHINGTON DC</td>\n",
       "      <td>4.80</td>\n",
       "      <td>69.24</td>\n",
       "      <td>63.3600</td>\n",
       "    </tr>\n",
       "    <tr>\n",
       "      <th>359388</th>\n",
       "      <td>10440104</td>\n",
       "      <td>01/04/18</td>\n",
       "      <td>Yellow Cab</td>\n",
       "      <td>WASHINGTON DC</td>\n",
       "      <td>8.40</td>\n",
       "      <td>113.75</td>\n",
       "      <td>106.8480</td>\n",
       "    </tr>\n",
       "    <tr>\n",
       "      <th>359389</th>\n",
       "      <td>10440105</td>\n",
       "      <td>01/05/18</td>\n",
       "      <td>Yellow Cab</td>\n",
       "      <td>WASHINGTON DC</td>\n",
       "      <td>27.75</td>\n",
       "      <td>437.07</td>\n",
       "      <td>349.6500</td>\n",
       "    </tr>\n",
       "    <tr>\n",
       "      <th>359390</th>\n",
       "      <td>10440106</td>\n",
       "      <td>01/05/18</td>\n",
       "      <td>Yellow Cab</td>\n",
       "      <td>WASHINGTON DC</td>\n",
       "      <td>8.80</td>\n",
       "      <td>146.19</td>\n",
       "      <td>114.0480</td>\n",
       "    </tr>\n",
       "    <tr>\n",
       "      <th>359391</th>\n",
       "      <td>10440107</td>\n",
       "      <td>01/02/18</td>\n",
       "      <td>Yellow Cab</td>\n",
       "      <td>WASHINGTON DC</td>\n",
       "      <td>12.76</td>\n",
       "      <td>191.58</td>\n",
       "      <td>177.6192</td>\n",
       "    </tr>\n",
       "  </tbody>\n",
       "</table>\n",
       "</div>"
      ],
      "text/plain": [
       "        Transaction ID Date of Travel     Company           City  \\\n",
       "359387        10440101       01/08/18  Yellow Cab  WASHINGTON DC   \n",
       "359388        10440104       01/04/18  Yellow Cab  WASHINGTON DC   \n",
       "359389        10440105       01/05/18  Yellow Cab  WASHINGTON DC   \n",
       "359390        10440106       01/05/18  Yellow Cab  WASHINGTON DC   \n",
       "359391        10440107       01/02/18  Yellow Cab  WASHINGTON DC   \n",
       "\n",
       "        KM Travelled  Price Charged  Cost of Trip  \n",
       "359387          4.80          69.24       63.3600  \n",
       "359388          8.40         113.75      106.8480  \n",
       "359389         27.75         437.07      349.6500  \n",
       "359390          8.80         146.19      114.0480  \n",
       "359391         12.76         191.58      177.6192  "
      ]
     },
     "execution_count": 5,
     "metadata": {},
     "output_type": "execute_result"
    }
   ],
   "source": [
    "Cab_Data.tail()"
   ]
  },
  {
   "cell_type": "code",
   "execution_count": 6,
   "id": "8f3bf84e",
   "metadata": {},
   "outputs": [
    {
     "data": {
      "text/html": [
       "<div>\n",
       "<style scoped>\n",
       "    .dataframe tbody tr th:only-of-type {\n",
       "        vertical-align: middle;\n",
       "    }\n",
       "\n",
       "    .dataframe tbody tr th {\n",
       "        vertical-align: top;\n",
       "    }\n",
       "\n",
       "    .dataframe thead th {\n",
       "        text-align: right;\n",
       "    }\n",
       "</style>\n",
       "<table border=\"1\" class=\"dataframe\">\n",
       "  <thead>\n",
       "    <tr style=\"text-align: right;\">\n",
       "      <th></th>\n",
       "      <th>Customer ID</th>\n",
       "      <th>Gender</th>\n",
       "      <th>Age</th>\n",
       "      <th>Income (USD/Month)</th>\n",
       "    </tr>\n",
       "  </thead>\n",
       "  <tbody>\n",
       "    <tr>\n",
       "      <th>0</th>\n",
       "      <td>29290</td>\n",
       "      <td>Male</td>\n",
       "      <td>28</td>\n",
       "      <td>10813</td>\n",
       "    </tr>\n",
       "    <tr>\n",
       "      <th>1</th>\n",
       "      <td>27703</td>\n",
       "      <td>Male</td>\n",
       "      <td>27</td>\n",
       "      <td>9237</td>\n",
       "    </tr>\n",
       "    <tr>\n",
       "      <th>2</th>\n",
       "      <td>28712</td>\n",
       "      <td>Male</td>\n",
       "      <td>53</td>\n",
       "      <td>11242</td>\n",
       "    </tr>\n",
       "    <tr>\n",
       "      <th>3</th>\n",
       "      <td>28020</td>\n",
       "      <td>Male</td>\n",
       "      <td>23</td>\n",
       "      <td>23327</td>\n",
       "    </tr>\n",
       "    <tr>\n",
       "      <th>4</th>\n",
       "      <td>27182</td>\n",
       "      <td>Male</td>\n",
       "      <td>33</td>\n",
       "      <td>8536</td>\n",
       "    </tr>\n",
       "  </tbody>\n",
       "</table>\n",
       "</div>"
      ],
      "text/plain": [
       "   Customer ID Gender  Age  Income (USD/Month)\n",
       "0        29290   Male   28               10813\n",
       "1        27703   Male   27                9237\n",
       "2        28712   Male   53               11242\n",
       "3        28020   Male   23               23327\n",
       "4        27182   Male   33                8536"
      ]
     },
     "execution_count": 6,
     "metadata": {},
     "output_type": "execute_result"
    }
   ],
   "source": [
    "Customer_ID.head()"
   ]
  },
  {
   "cell_type": "code",
   "execution_count": 54,
   "id": "39d927f0",
   "metadata": {},
   "outputs": [
    {
     "name": "stdout",
     "output_type": "stream",
     "text": [
      "<class 'pandas.core.frame.DataFrame'>\n",
      "RangeIndex: 49171 entries, 0 to 49170\n",
      "Data columns (total 4 columns):\n",
      " #   Column              Non-Null Count  Dtype \n",
      "---  ------              --------------  ----- \n",
      " 0   Customer_ID         49171 non-null  int64 \n",
      " 1   Gender              49171 non-null  object\n",
      " 2   Age                 49171 non-null  int64 \n",
      " 3   Income_(USD/Month)  49171 non-null  int64 \n",
      "dtypes: int64(3), object(1)\n",
      "memory usage: 1.5+ MB\n"
     ]
    }
   ],
   "source": [
    "Customer_ID.info()"
   ]
  },
  {
   "cell_type": "code",
   "execution_count": 7,
   "id": "54a78da3",
   "metadata": {},
   "outputs": [
    {
     "name": "stdout",
     "output_type": "stream",
     "text": [
      "<class 'pandas.core.frame.DataFrame'>\n",
      "RangeIndex: 440098 entries, 0 to 440097\n",
      "Data columns (total 3 columns):\n",
      " #   Column          Non-Null Count   Dtype \n",
      "---  ------          --------------   ----- \n",
      " 0   Transaction ID  440098 non-null  int64 \n",
      " 1   Customer ID     440098 non-null  int64 \n",
      " 2   Payment_Mode    440098 non-null  object\n",
      "dtypes: int64(2), object(1)\n",
      "memory usage: 10.1+ MB\n"
     ]
    }
   ],
   "source": [
    "Transaction_ID.info()"
   ]
  },
  {
   "cell_type": "code",
   "execution_count": 8,
   "id": "67a9a7e4",
   "metadata": {},
   "outputs": [
    {
     "name": "stdout",
     "output_type": "stream",
     "text": [
      "<class 'pandas.core.frame.DataFrame'>\n",
      "RangeIndex: 20 entries, 0 to 19\n",
      "Data columns (total 3 columns):\n",
      " #   Column      Non-Null Count  Dtype \n",
      "---  ------      --------------  ----- \n",
      " 0   City        20 non-null     object\n",
      " 1   Population  20 non-null     object\n",
      " 2   Users       20 non-null     object\n",
      "dtypes: object(3)\n",
      "memory usage: 608.0+ bytes\n"
     ]
    }
   ],
   "source": [
    "City.info()"
   ]
  },
  {
   "cell_type": "code",
   "execution_count": 9,
   "id": "65a0c5bd",
   "metadata": {},
   "outputs": [
    {
     "data": {
      "text/plain": [
       "City          0\n",
       "Population    0\n",
       "Users         0\n",
       "dtype: int64"
      ]
     },
     "execution_count": 9,
     "metadata": {},
     "output_type": "execute_result"
    }
   ],
   "source": [
    "City.isnull().sum()"
   ]
  },
  {
   "cell_type": "code",
   "execution_count": 10,
   "id": "9687d9a4",
   "metadata": {},
   "outputs": [
    {
     "data": {
      "text/plain": [
       "Transaction ID    0\n",
       "Customer ID       0\n",
       "Payment_Mode      0\n",
       "dtype: int64"
      ]
     },
     "execution_count": 10,
     "metadata": {},
     "output_type": "execute_result"
    }
   ],
   "source": [
    "Transaction_ID.isnull().sum()"
   ]
  },
  {
   "cell_type": "code",
   "execution_count": 11,
   "id": "dd6d60f9",
   "metadata": {},
   "outputs": [
    {
     "data": {
      "text/plain": [
       "Transaction ID    0\n",
       "Date of Travel    0\n",
       "Company           0\n",
       "City              0\n",
       "KM Travelled      0\n",
       "Price Charged     0\n",
       "Cost of Trip      0\n",
       "dtype: int64"
      ]
     },
     "execution_count": 11,
     "metadata": {},
     "output_type": "execute_result"
    }
   ],
   "source": [
    "Cab_Data.isnull().sum()"
   ]
  },
  {
   "cell_type": "code",
   "execution_count": 12,
   "id": "5292efc9",
   "metadata": {},
   "outputs": [
    {
     "data": {
      "text/plain": [
       "Customer ID           0\n",
       "Gender                0\n",
       "Age                   0\n",
       "Income (USD/Month)    0\n",
       "dtype: int64"
      ]
     },
     "execution_count": 12,
     "metadata": {},
     "output_type": "execute_result"
    }
   ],
   "source": [
    "Customer_ID.isnull().sum()"
   ]
  },
  {
   "cell_type": "code",
   "execution_count": 13,
   "id": "e9318f11",
   "metadata": {},
   "outputs": [],
   "source": [
    "for colum in Cab_Data.columns:\n",
    "    if ' ' in colum:\n",
    "        Cab_Data = Cab_Data.rename(columns={colum:colum.replace(' ','_')})"
   ]
  },
  {
   "cell_type": "code",
   "execution_count": 14,
   "id": "6d347d2e",
   "metadata": {},
   "outputs": [],
   "source": [
    "for colum in Customer_ID.columns:\n",
    "    if ' ' in colum:\n",
    "        Customer_ID = Customer_ID.rename(columns={colum:colum.replace(' ','_')})"
   ]
  },
  {
   "cell_type": "code",
   "execution_count": 15,
   "id": "4e208bad",
   "metadata": {},
   "outputs": [],
   "source": [
    "for colum in Transaction_ID.columns:\n",
    "    if ' ' in colum:\n",
    "        Transaction_ID = Transaction_ID.rename(columns={colum:colum.replace(' ','_')})"
   ]
  },
  {
   "cell_type": "code",
   "execution_count": 16,
   "id": "fb11fc2f",
   "metadata": {},
   "outputs": [],
   "source": [
    "Cab_Data['Date_of_Travel'] = pan.to_datetime(Cab_Data['Date_of_Travel'], format = \"%m/%d/%y\")"
   ]
  },
  {
   "cell_type": "code",
   "execution_count": 17,
   "id": "f5f2c810",
   "metadata": {},
   "outputs": [],
   "source": [
    "months=[]\n",
    "years =[]\n",
    "for i in range(len(Cab_Data['Date_of_Travel'])):\n",
    "    months.append(Cab_Data['Date_of_Travel'][i].month)\n",
    "    years.append(Cab_Data['Date_of_Travel'][i].year)\n",
    "Cab_Data['Month'] = months\n",
    "Cab_Data['Year'] = years\n",
    "\n",
    "Cab_Data.drop('Date_of_Travel', axis=1, inplace=True)\n"
   ]
  },
  {
   "cell_type": "code",
   "execution_count": 18,
   "id": "55ded2f8",
   "metadata": {},
   "outputs": [],
   "source": [
    "PinkCab = Cab_Data[Cab_Data['Company']=='Pink Cab']\n",
    "YellowCab =Cab_Data[Cab_Data['Company']=='Yellow Cab']"
   ]
  },
  {
   "cell_type": "code",
   "execution_count": 19,
   "id": "6c806bd8",
   "metadata": {},
   "outputs": [
    {
     "data": {
      "text/html": [
       "<div>\n",
       "<style scoped>\n",
       "    .dataframe tbody tr th:only-of-type {\n",
       "        vertical-align: middle;\n",
       "    }\n",
       "\n",
       "    .dataframe tbody tr th {\n",
       "        vertical-align: top;\n",
       "    }\n",
       "\n",
       "    .dataframe thead th {\n",
       "        text-align: right;\n",
       "    }\n",
       "</style>\n",
       "<table border=\"1\" class=\"dataframe\">\n",
       "  <thead>\n",
       "    <tr style=\"text-align: right;\">\n",
       "      <th></th>\n",
       "      <th>Company</th>\n",
       "      <th>City</th>\n",
       "      <th>KM_Travelled</th>\n",
       "      <th>Price_Charged</th>\n",
       "      <th>Cost_of_Trip</th>\n",
       "      <th>Month</th>\n",
       "      <th>Year</th>\n",
       "      <th>Customer_ID</th>\n",
       "      <th>Payment_Mode</th>\n",
       "    </tr>\n",
       "    <tr>\n",
       "      <th>Transaction_ID</th>\n",
       "      <th></th>\n",
       "      <th></th>\n",
       "      <th></th>\n",
       "      <th></th>\n",
       "      <th></th>\n",
       "      <th></th>\n",
       "      <th></th>\n",
       "      <th></th>\n",
       "      <th></th>\n",
       "    </tr>\n",
       "  </thead>\n",
       "  <tbody>\n",
       "    <tr>\n",
       "      <th>10000011</th>\n",
       "      <td>Pink Cab</td>\n",
       "      <td>ATLANTA GA</td>\n",
       "      <td>30.45</td>\n",
       "      <td>370.95</td>\n",
       "      <td>313.6350</td>\n",
       "      <td>1</td>\n",
       "      <td>2016</td>\n",
       "      <td>29290</td>\n",
       "      <td>Card</td>\n",
       "    </tr>\n",
       "    <tr>\n",
       "      <th>10000012</th>\n",
       "      <td>Pink Cab</td>\n",
       "      <td>ATLANTA GA</td>\n",
       "      <td>28.62</td>\n",
       "      <td>358.52</td>\n",
       "      <td>334.8540</td>\n",
       "      <td>1</td>\n",
       "      <td>2016</td>\n",
       "      <td>27703</td>\n",
       "      <td>Card</td>\n",
       "    </tr>\n",
       "    <tr>\n",
       "      <th>10000013</th>\n",
       "      <td>Pink Cab</td>\n",
       "      <td>ATLANTA GA</td>\n",
       "      <td>9.04</td>\n",
       "      <td>125.20</td>\n",
       "      <td>97.6320</td>\n",
       "      <td>1</td>\n",
       "      <td>2016</td>\n",
       "      <td>28712</td>\n",
       "      <td>Cash</td>\n",
       "    </tr>\n",
       "    <tr>\n",
       "      <th>10000014</th>\n",
       "      <td>Pink Cab</td>\n",
       "      <td>ATLANTA GA</td>\n",
       "      <td>33.17</td>\n",
       "      <td>377.40</td>\n",
       "      <td>351.6020</td>\n",
       "      <td>1</td>\n",
       "      <td>2016</td>\n",
       "      <td>28020</td>\n",
       "      <td>Cash</td>\n",
       "    </tr>\n",
       "    <tr>\n",
       "      <th>10000015</th>\n",
       "      <td>Pink Cab</td>\n",
       "      <td>ATLANTA GA</td>\n",
       "      <td>8.73</td>\n",
       "      <td>114.62</td>\n",
       "      <td>97.7760</td>\n",
       "      <td>1</td>\n",
       "      <td>2016</td>\n",
       "      <td>27182</td>\n",
       "      <td>Card</td>\n",
       "    </tr>\n",
       "    <tr>\n",
       "      <th>...</th>\n",
       "      <td>...</td>\n",
       "      <td>...</td>\n",
       "      <td>...</td>\n",
       "      <td>...</td>\n",
       "      <td>...</td>\n",
       "      <td>...</td>\n",
       "      <td>...</td>\n",
       "      <td>...</td>\n",
       "      <td>...</td>\n",
       "    </tr>\n",
       "    <tr>\n",
       "      <th>10440101</th>\n",
       "      <td>Yellow Cab</td>\n",
       "      <td>WASHINGTON DC</td>\n",
       "      <td>4.80</td>\n",
       "      <td>69.24</td>\n",
       "      <td>63.3600</td>\n",
       "      <td>1</td>\n",
       "      <td>2018</td>\n",
       "      <td>52392</td>\n",
       "      <td>Cash</td>\n",
       "    </tr>\n",
       "    <tr>\n",
       "      <th>10440104</th>\n",
       "      <td>Yellow Cab</td>\n",
       "      <td>WASHINGTON DC</td>\n",
       "      <td>8.40</td>\n",
       "      <td>113.75</td>\n",
       "      <td>106.8480</td>\n",
       "      <td>1</td>\n",
       "      <td>2018</td>\n",
       "      <td>53286</td>\n",
       "      <td>Cash</td>\n",
       "    </tr>\n",
       "    <tr>\n",
       "      <th>10440105</th>\n",
       "      <td>Yellow Cab</td>\n",
       "      <td>WASHINGTON DC</td>\n",
       "      <td>27.75</td>\n",
       "      <td>437.07</td>\n",
       "      <td>349.6500</td>\n",
       "      <td>1</td>\n",
       "      <td>2018</td>\n",
       "      <td>52265</td>\n",
       "      <td>Cash</td>\n",
       "    </tr>\n",
       "    <tr>\n",
       "      <th>10440106</th>\n",
       "      <td>Yellow Cab</td>\n",
       "      <td>WASHINGTON DC</td>\n",
       "      <td>8.80</td>\n",
       "      <td>146.19</td>\n",
       "      <td>114.0480</td>\n",
       "      <td>1</td>\n",
       "      <td>2018</td>\n",
       "      <td>52175</td>\n",
       "      <td>Card</td>\n",
       "    </tr>\n",
       "    <tr>\n",
       "      <th>10440107</th>\n",
       "      <td>Yellow Cab</td>\n",
       "      <td>WASHINGTON DC</td>\n",
       "      <td>12.76</td>\n",
       "      <td>191.58</td>\n",
       "      <td>177.6192</td>\n",
       "      <td>1</td>\n",
       "      <td>2018</td>\n",
       "      <td>52917</td>\n",
       "      <td>Card</td>\n",
       "    </tr>\n",
       "  </tbody>\n",
       "</table>\n",
       "<p>359392 rows × 9 columns</p>\n",
       "</div>"
      ],
      "text/plain": [
       "                   Company           City  KM_Travelled  Price_Charged  \\\n",
       "Transaction_ID                                                           \n",
       "10000011          Pink Cab     ATLANTA GA         30.45         370.95   \n",
       "10000012          Pink Cab     ATLANTA GA         28.62         358.52   \n",
       "10000013          Pink Cab     ATLANTA GA          9.04         125.20   \n",
       "10000014          Pink Cab     ATLANTA GA         33.17         377.40   \n",
       "10000015          Pink Cab     ATLANTA GA          8.73         114.62   \n",
       "...                    ...            ...           ...            ...   \n",
       "10440101        Yellow Cab  WASHINGTON DC          4.80          69.24   \n",
       "10440104        Yellow Cab  WASHINGTON DC          8.40         113.75   \n",
       "10440105        Yellow Cab  WASHINGTON DC         27.75         437.07   \n",
       "10440106        Yellow Cab  WASHINGTON DC          8.80         146.19   \n",
       "10440107        Yellow Cab  WASHINGTON DC         12.76         191.58   \n",
       "\n",
       "                Cost_of_Trip  Month  Year  Customer_ID Payment_Mode  \n",
       "Transaction_ID                                                       \n",
       "10000011            313.6350      1  2016        29290         Card  \n",
       "10000012            334.8540      1  2016        27703         Card  \n",
       "10000013             97.6320      1  2016        28712         Cash  \n",
       "10000014            351.6020      1  2016        28020         Cash  \n",
       "10000015             97.7760      1  2016        27182         Card  \n",
       "...                      ...    ...   ...          ...          ...  \n",
       "10440101             63.3600      1  2018        52392         Cash  \n",
       "10440104            106.8480      1  2018        53286         Cash  \n",
       "10440105            349.6500      1  2018        52265         Cash  \n",
       "10440106            114.0480      1  2018        52175         Card  \n",
       "10440107            177.6192      1  2018        52917         Card  \n",
       "\n",
       "[359392 rows x 9 columns]"
      ]
     },
     "execution_count": 19,
     "metadata": {},
     "output_type": "execute_result"
    }
   ],
   "source": [
    "#Joining all the DATA\n",
    "left = Cab_Data.set_index(['Transaction_ID'])\n",
    "right = Transaction_ID.set_index(['Transaction_ID'])\n",
    "data = left.join(right)\n",
    "data\n",
    "\n"
   ]
  },
  {
   "cell_type": "code",
   "execution_count": 20,
   "id": "13c24488",
   "metadata": {},
   "outputs": [
    {
     "data": {
      "text/html": [
       "<div>\n",
       "<style scoped>\n",
       "    .dataframe tbody tr th:only-of-type {\n",
       "        vertical-align: middle;\n",
       "    }\n",
       "\n",
       "    .dataframe tbody tr th {\n",
       "        vertical-align: top;\n",
       "    }\n",
       "\n",
       "    .dataframe thead th {\n",
       "        text-align: right;\n",
       "    }\n",
       "</style>\n",
       "<table border=\"1\" class=\"dataframe\">\n",
       "  <thead>\n",
       "    <tr style=\"text-align: right;\">\n",
       "      <th></th>\n",
       "      <th></th>\n",
       "      <th>Company</th>\n",
       "      <th>City</th>\n",
       "      <th>KM_Travelled</th>\n",
       "      <th>Price_Charged</th>\n",
       "      <th>Cost_of_Trip</th>\n",
       "      <th>Month</th>\n",
       "      <th>Year</th>\n",
       "      <th>Payment_Mode</th>\n",
       "      <th>Gender</th>\n",
       "      <th>Age</th>\n",
       "      <th>Income_(USD/Month)</th>\n",
       "    </tr>\n",
       "    <tr>\n",
       "      <th>Transaction_ID</th>\n",
       "      <th>Customer_ID</th>\n",
       "      <th></th>\n",
       "      <th></th>\n",
       "      <th></th>\n",
       "      <th></th>\n",
       "      <th></th>\n",
       "      <th></th>\n",
       "      <th></th>\n",
       "      <th></th>\n",
       "      <th></th>\n",
       "      <th></th>\n",
       "      <th></th>\n",
       "    </tr>\n",
       "  </thead>\n",
       "  <tbody>\n",
       "    <tr>\n",
       "      <th>10000011</th>\n",
       "      <th>29290</th>\n",
       "      <td>Pink Cab</td>\n",
       "      <td>ATLANTA GA</td>\n",
       "      <td>30.45</td>\n",
       "      <td>370.95</td>\n",
       "      <td>313.6350</td>\n",
       "      <td>1</td>\n",
       "      <td>2016</td>\n",
       "      <td>Card</td>\n",
       "      <td>Male</td>\n",
       "      <td>28</td>\n",
       "      <td>10813</td>\n",
       "    </tr>\n",
       "    <tr>\n",
       "      <th>10000012</th>\n",
       "      <th>27703</th>\n",
       "      <td>Pink Cab</td>\n",
       "      <td>ATLANTA GA</td>\n",
       "      <td>28.62</td>\n",
       "      <td>358.52</td>\n",
       "      <td>334.8540</td>\n",
       "      <td>1</td>\n",
       "      <td>2016</td>\n",
       "      <td>Card</td>\n",
       "      <td>Male</td>\n",
       "      <td>27</td>\n",
       "      <td>9237</td>\n",
       "    </tr>\n",
       "    <tr>\n",
       "      <th>10000013</th>\n",
       "      <th>28712</th>\n",
       "      <td>Pink Cab</td>\n",
       "      <td>ATLANTA GA</td>\n",
       "      <td>9.04</td>\n",
       "      <td>125.20</td>\n",
       "      <td>97.6320</td>\n",
       "      <td>1</td>\n",
       "      <td>2016</td>\n",
       "      <td>Cash</td>\n",
       "      <td>Male</td>\n",
       "      <td>53</td>\n",
       "      <td>11242</td>\n",
       "    </tr>\n",
       "    <tr>\n",
       "      <th>10000014</th>\n",
       "      <th>28020</th>\n",
       "      <td>Pink Cab</td>\n",
       "      <td>ATLANTA GA</td>\n",
       "      <td>33.17</td>\n",
       "      <td>377.40</td>\n",
       "      <td>351.6020</td>\n",
       "      <td>1</td>\n",
       "      <td>2016</td>\n",
       "      <td>Cash</td>\n",
       "      <td>Male</td>\n",
       "      <td>23</td>\n",
       "      <td>23327</td>\n",
       "    </tr>\n",
       "    <tr>\n",
       "      <th>10000015</th>\n",
       "      <th>27182</th>\n",
       "      <td>Pink Cab</td>\n",
       "      <td>ATLANTA GA</td>\n",
       "      <td>8.73</td>\n",
       "      <td>114.62</td>\n",
       "      <td>97.7760</td>\n",
       "      <td>1</td>\n",
       "      <td>2016</td>\n",
       "      <td>Card</td>\n",
       "      <td>Male</td>\n",
       "      <td>33</td>\n",
       "      <td>8536</td>\n",
       "    </tr>\n",
       "    <tr>\n",
       "      <th>...</th>\n",
       "      <th>...</th>\n",
       "      <td>...</td>\n",
       "      <td>...</td>\n",
       "      <td>...</td>\n",
       "      <td>...</td>\n",
       "      <td>...</td>\n",
       "      <td>...</td>\n",
       "      <td>...</td>\n",
       "      <td>...</td>\n",
       "      <td>...</td>\n",
       "      <td>...</td>\n",
       "      <td>...</td>\n",
       "    </tr>\n",
       "    <tr>\n",
       "      <th>10440101</th>\n",
       "      <th>52392</th>\n",
       "      <td>Yellow Cab</td>\n",
       "      <td>WASHINGTON DC</td>\n",
       "      <td>4.80</td>\n",
       "      <td>69.24</td>\n",
       "      <td>63.3600</td>\n",
       "      <td>1</td>\n",
       "      <td>2018</td>\n",
       "      <td>Cash</td>\n",
       "      <td>Male</td>\n",
       "      <td>24</td>\n",
       "      <td>15651</td>\n",
       "    </tr>\n",
       "    <tr>\n",
       "      <th>10440104</th>\n",
       "      <th>53286</th>\n",
       "      <td>Yellow Cab</td>\n",
       "      <td>WASHINGTON DC</td>\n",
       "      <td>8.40</td>\n",
       "      <td>113.75</td>\n",
       "      <td>106.8480</td>\n",
       "      <td>1</td>\n",
       "      <td>2018</td>\n",
       "      <td>Cash</td>\n",
       "      <td>Male</td>\n",
       "      <td>32</td>\n",
       "      <td>6528</td>\n",
       "    </tr>\n",
       "    <tr>\n",
       "      <th>10440105</th>\n",
       "      <th>52265</th>\n",
       "      <td>Yellow Cab</td>\n",
       "      <td>WASHINGTON DC</td>\n",
       "      <td>27.75</td>\n",
       "      <td>437.07</td>\n",
       "      <td>349.6500</td>\n",
       "      <td>1</td>\n",
       "      <td>2018</td>\n",
       "      <td>Cash</td>\n",
       "      <td>Male</td>\n",
       "      <td>56</td>\n",
       "      <td>7966</td>\n",
       "    </tr>\n",
       "    <tr>\n",
       "      <th>10440106</th>\n",
       "      <th>52175</th>\n",
       "      <td>Yellow Cab</td>\n",
       "      <td>WASHINGTON DC</td>\n",
       "      <td>8.80</td>\n",
       "      <td>146.19</td>\n",
       "      <td>114.0480</td>\n",
       "      <td>1</td>\n",
       "      <td>2018</td>\n",
       "      <td>Card</td>\n",
       "      <td>Male</td>\n",
       "      <td>32</td>\n",
       "      <td>6423</td>\n",
       "    </tr>\n",
       "    <tr>\n",
       "      <th>10440107</th>\n",
       "      <th>52917</th>\n",
       "      <td>Yellow Cab</td>\n",
       "      <td>WASHINGTON DC</td>\n",
       "      <td>12.76</td>\n",
       "      <td>191.58</td>\n",
       "      <td>177.6192</td>\n",
       "      <td>1</td>\n",
       "      <td>2018</td>\n",
       "      <td>Card</td>\n",
       "      <td>Male</td>\n",
       "      <td>20</td>\n",
       "      <td>11284</td>\n",
       "    </tr>\n",
       "  </tbody>\n",
       "</table>\n",
       "<p>359392 rows × 11 columns</p>\n",
       "</div>"
      ],
      "text/plain": [
       "                               Company           City  KM_Travelled  \\\n",
       "Transaction_ID Customer_ID                                            \n",
       "10000011       29290          Pink Cab     ATLANTA GA         30.45   \n",
       "10000012       27703          Pink Cab     ATLANTA GA         28.62   \n",
       "10000013       28712          Pink Cab     ATLANTA GA          9.04   \n",
       "10000014       28020          Pink Cab     ATLANTA GA         33.17   \n",
       "10000015       27182          Pink Cab     ATLANTA GA          8.73   \n",
       "...                                ...            ...           ...   \n",
       "10440101       52392        Yellow Cab  WASHINGTON DC          4.80   \n",
       "10440104       53286        Yellow Cab  WASHINGTON DC          8.40   \n",
       "10440105       52265        Yellow Cab  WASHINGTON DC         27.75   \n",
       "10440106       52175        Yellow Cab  WASHINGTON DC          8.80   \n",
       "10440107       52917        Yellow Cab  WASHINGTON DC         12.76   \n",
       "\n",
       "                            Price_Charged  Cost_of_Trip  Month  Year  \\\n",
       "Transaction_ID Customer_ID                                             \n",
       "10000011       29290               370.95      313.6350      1  2016   \n",
       "10000012       27703               358.52      334.8540      1  2016   \n",
       "10000013       28712               125.20       97.6320      1  2016   \n",
       "10000014       28020               377.40      351.6020      1  2016   \n",
       "10000015       27182               114.62       97.7760      1  2016   \n",
       "...                                   ...           ...    ...   ...   \n",
       "10440101       52392                69.24       63.3600      1  2018   \n",
       "10440104       53286               113.75      106.8480      1  2018   \n",
       "10440105       52265               437.07      349.6500      1  2018   \n",
       "10440106       52175               146.19      114.0480      1  2018   \n",
       "10440107       52917               191.58      177.6192      1  2018   \n",
       "\n",
       "                           Payment_Mode Gender  Age  Income_(USD/Month)  \n",
       "Transaction_ID Customer_ID                                               \n",
       "10000011       29290               Card   Male   28               10813  \n",
       "10000012       27703               Card   Male   27                9237  \n",
       "10000013       28712               Cash   Male   53               11242  \n",
       "10000014       28020               Cash   Male   23               23327  \n",
       "10000015       27182               Card   Male   33                8536  \n",
       "...                                 ...    ...  ...                 ...  \n",
       "10440101       52392               Cash   Male   24               15651  \n",
       "10440104       53286               Cash   Male   32                6528  \n",
       "10440105       52265               Cash   Male   56                7966  \n",
       "10440106       52175               Card   Male   32                6423  \n",
       "10440107       52917               Card   Male   20               11284  \n",
       "\n",
       "[359392 rows x 11 columns]"
      ]
     },
     "execution_count": 20,
     "metadata": {},
     "output_type": "execute_result"
    }
   ],
   "source": [
    "left = data.set_index([data.index,'Customer_ID'])\n",
    "right = Customer_ID.set_index(['Customer_ID'])\n",
    "data = left.join(right)\n",
    "data\n"
   ]
  },
  {
   "cell_type": "code",
   "execution_count": 21,
   "id": "eda92a10",
   "metadata": {},
   "outputs": [
    {
     "data": {
      "text/html": [
       "<div>\n",
       "<style scoped>\n",
       "    .dataframe tbody tr th:only-of-type {\n",
       "        vertical-align: middle;\n",
       "    }\n",
       "\n",
       "    .dataframe tbody tr th {\n",
       "        vertical-align: top;\n",
       "    }\n",
       "\n",
       "    .dataframe thead th {\n",
       "        text-align: right;\n",
       "    }\n",
       "</style>\n",
       "<table border=\"1\" class=\"dataframe\">\n",
       "  <thead>\n",
       "    <tr style=\"text-align: right;\">\n",
       "      <th></th>\n",
       "      <th></th>\n",
       "      <th></th>\n",
       "      <th>Company</th>\n",
       "      <th>KM_Travelled</th>\n",
       "      <th>Price_Charged</th>\n",
       "      <th>Cost_of_Trip</th>\n",
       "      <th>Month</th>\n",
       "      <th>Year</th>\n",
       "      <th>Payment_Mode</th>\n",
       "      <th>Gender</th>\n",
       "      <th>Age</th>\n",
       "      <th>Income_(USD/Month)</th>\n",
       "      <th>Population</th>\n",
       "      <th>Users</th>\n",
       "    </tr>\n",
       "    <tr>\n",
       "      <th>Transaction_ID</th>\n",
       "      <th>Customer_ID</th>\n",
       "      <th>City</th>\n",
       "      <th></th>\n",
       "      <th></th>\n",
       "      <th></th>\n",
       "      <th></th>\n",
       "      <th></th>\n",
       "      <th></th>\n",
       "      <th></th>\n",
       "      <th></th>\n",
       "      <th></th>\n",
       "      <th></th>\n",
       "      <th></th>\n",
       "      <th></th>\n",
       "    </tr>\n",
       "  </thead>\n",
       "  <tbody>\n",
       "    <tr>\n",
       "      <th>10000011</th>\n",
       "      <th>29290</th>\n",
       "      <th>ATLANTA GA</th>\n",
       "      <td>Pink Cab</td>\n",
       "      <td>30.45</td>\n",
       "      <td>370.95</td>\n",
       "      <td>313.6350</td>\n",
       "      <td>1</td>\n",
       "      <td>2016</td>\n",
       "      <td>Card</td>\n",
       "      <td>Male</td>\n",
       "      <td>28</td>\n",
       "      <td>10813</td>\n",
       "      <td>814,885</td>\n",
       "      <td>24,701</td>\n",
       "    </tr>\n",
       "    <tr>\n",
       "      <th>10000012</th>\n",
       "      <th>27703</th>\n",
       "      <th>ATLANTA GA</th>\n",
       "      <td>Pink Cab</td>\n",
       "      <td>28.62</td>\n",
       "      <td>358.52</td>\n",
       "      <td>334.8540</td>\n",
       "      <td>1</td>\n",
       "      <td>2016</td>\n",
       "      <td>Card</td>\n",
       "      <td>Male</td>\n",
       "      <td>27</td>\n",
       "      <td>9237</td>\n",
       "      <td>814,885</td>\n",
       "      <td>24,701</td>\n",
       "    </tr>\n",
       "    <tr>\n",
       "      <th>10000013</th>\n",
       "      <th>28712</th>\n",
       "      <th>ATLANTA GA</th>\n",
       "      <td>Pink Cab</td>\n",
       "      <td>9.04</td>\n",
       "      <td>125.20</td>\n",
       "      <td>97.6320</td>\n",
       "      <td>1</td>\n",
       "      <td>2016</td>\n",
       "      <td>Cash</td>\n",
       "      <td>Male</td>\n",
       "      <td>53</td>\n",
       "      <td>11242</td>\n",
       "      <td>814,885</td>\n",
       "      <td>24,701</td>\n",
       "    </tr>\n",
       "    <tr>\n",
       "      <th>10000014</th>\n",
       "      <th>28020</th>\n",
       "      <th>ATLANTA GA</th>\n",
       "      <td>Pink Cab</td>\n",
       "      <td>33.17</td>\n",
       "      <td>377.40</td>\n",
       "      <td>351.6020</td>\n",
       "      <td>1</td>\n",
       "      <td>2016</td>\n",
       "      <td>Cash</td>\n",
       "      <td>Male</td>\n",
       "      <td>23</td>\n",
       "      <td>23327</td>\n",
       "      <td>814,885</td>\n",
       "      <td>24,701</td>\n",
       "    </tr>\n",
       "    <tr>\n",
       "      <th>10000015</th>\n",
       "      <th>27182</th>\n",
       "      <th>ATLANTA GA</th>\n",
       "      <td>Pink Cab</td>\n",
       "      <td>8.73</td>\n",
       "      <td>114.62</td>\n",
       "      <td>97.7760</td>\n",
       "      <td>1</td>\n",
       "      <td>2016</td>\n",
       "      <td>Card</td>\n",
       "      <td>Male</td>\n",
       "      <td>33</td>\n",
       "      <td>8536</td>\n",
       "      <td>814,885</td>\n",
       "      <td>24,701</td>\n",
       "    </tr>\n",
       "    <tr>\n",
       "      <th>...</th>\n",
       "      <th>...</th>\n",
       "      <th>...</th>\n",
       "      <td>...</td>\n",
       "      <td>...</td>\n",
       "      <td>...</td>\n",
       "      <td>...</td>\n",
       "      <td>...</td>\n",
       "      <td>...</td>\n",
       "      <td>...</td>\n",
       "      <td>...</td>\n",
       "      <td>...</td>\n",
       "      <td>...</td>\n",
       "      <td>...</td>\n",
       "      <td>...</td>\n",
       "    </tr>\n",
       "    <tr>\n",
       "      <th>10440101</th>\n",
       "      <th>52392</th>\n",
       "      <th>WASHINGTON DC</th>\n",
       "      <td>Yellow Cab</td>\n",
       "      <td>4.80</td>\n",
       "      <td>69.24</td>\n",
       "      <td>63.3600</td>\n",
       "      <td>1</td>\n",
       "      <td>2018</td>\n",
       "      <td>Cash</td>\n",
       "      <td>Male</td>\n",
       "      <td>24</td>\n",
       "      <td>15651</td>\n",
       "      <td>418,859</td>\n",
       "      <td>127,001</td>\n",
       "    </tr>\n",
       "    <tr>\n",
       "      <th>10440104</th>\n",
       "      <th>53286</th>\n",
       "      <th>WASHINGTON DC</th>\n",
       "      <td>Yellow Cab</td>\n",
       "      <td>8.40</td>\n",
       "      <td>113.75</td>\n",
       "      <td>106.8480</td>\n",
       "      <td>1</td>\n",
       "      <td>2018</td>\n",
       "      <td>Cash</td>\n",
       "      <td>Male</td>\n",
       "      <td>32</td>\n",
       "      <td>6528</td>\n",
       "      <td>418,859</td>\n",
       "      <td>127,001</td>\n",
       "    </tr>\n",
       "    <tr>\n",
       "      <th>10440105</th>\n",
       "      <th>52265</th>\n",
       "      <th>WASHINGTON DC</th>\n",
       "      <td>Yellow Cab</td>\n",
       "      <td>27.75</td>\n",
       "      <td>437.07</td>\n",
       "      <td>349.6500</td>\n",
       "      <td>1</td>\n",
       "      <td>2018</td>\n",
       "      <td>Cash</td>\n",
       "      <td>Male</td>\n",
       "      <td>56</td>\n",
       "      <td>7966</td>\n",
       "      <td>418,859</td>\n",
       "      <td>127,001</td>\n",
       "    </tr>\n",
       "    <tr>\n",
       "      <th>10440106</th>\n",
       "      <th>52175</th>\n",
       "      <th>WASHINGTON DC</th>\n",
       "      <td>Yellow Cab</td>\n",
       "      <td>8.80</td>\n",
       "      <td>146.19</td>\n",
       "      <td>114.0480</td>\n",
       "      <td>1</td>\n",
       "      <td>2018</td>\n",
       "      <td>Card</td>\n",
       "      <td>Male</td>\n",
       "      <td>32</td>\n",
       "      <td>6423</td>\n",
       "      <td>418,859</td>\n",
       "      <td>127,001</td>\n",
       "    </tr>\n",
       "    <tr>\n",
       "      <th>10440107</th>\n",
       "      <th>52917</th>\n",
       "      <th>WASHINGTON DC</th>\n",
       "      <td>Yellow Cab</td>\n",
       "      <td>12.76</td>\n",
       "      <td>191.58</td>\n",
       "      <td>177.6192</td>\n",
       "      <td>1</td>\n",
       "      <td>2018</td>\n",
       "      <td>Card</td>\n",
       "      <td>Male</td>\n",
       "      <td>20</td>\n",
       "      <td>11284</td>\n",
       "      <td>418,859</td>\n",
       "      <td>127,001</td>\n",
       "    </tr>\n",
       "  </tbody>\n",
       "</table>\n",
       "<p>359392 rows × 12 columns</p>\n",
       "</div>"
      ],
      "text/plain": [
       "                                             Company  KM_Travelled  \\\n",
       "Transaction_ID Customer_ID City                                      \n",
       "10000011       29290       ATLANTA GA       Pink Cab         30.45   \n",
       "10000012       27703       ATLANTA GA       Pink Cab         28.62   \n",
       "10000013       28712       ATLANTA GA       Pink Cab          9.04   \n",
       "10000014       28020       ATLANTA GA       Pink Cab         33.17   \n",
       "10000015       27182       ATLANTA GA       Pink Cab          8.73   \n",
       "...                                              ...           ...   \n",
       "10440101       52392       WASHINGTON DC  Yellow Cab          4.80   \n",
       "10440104       53286       WASHINGTON DC  Yellow Cab          8.40   \n",
       "10440105       52265       WASHINGTON DC  Yellow Cab         27.75   \n",
       "10440106       52175       WASHINGTON DC  Yellow Cab          8.80   \n",
       "10440107       52917       WASHINGTON DC  Yellow Cab         12.76   \n",
       "\n",
       "                                          Price_Charged  Cost_of_Trip  Month  \\\n",
       "Transaction_ID Customer_ID City                                                \n",
       "10000011       29290       ATLANTA GA            370.95      313.6350      1   \n",
       "10000012       27703       ATLANTA GA            358.52      334.8540      1   \n",
       "10000013       28712       ATLANTA GA            125.20       97.6320      1   \n",
       "10000014       28020       ATLANTA GA            377.40      351.6020      1   \n",
       "10000015       27182       ATLANTA GA            114.62       97.7760      1   \n",
       "...                                                 ...           ...    ...   \n",
       "10440101       52392       WASHINGTON DC          69.24       63.3600      1   \n",
       "10440104       53286       WASHINGTON DC         113.75      106.8480      1   \n",
       "10440105       52265       WASHINGTON DC         437.07      349.6500      1   \n",
       "10440106       52175       WASHINGTON DC         146.19      114.0480      1   \n",
       "10440107       52917       WASHINGTON DC         191.58      177.6192      1   \n",
       "\n",
       "                                          Year Payment_Mode Gender  Age  \\\n",
       "Transaction_ID Customer_ID City                                           \n",
       "10000011       29290       ATLANTA GA     2016         Card   Male   28   \n",
       "10000012       27703       ATLANTA GA     2016         Card   Male   27   \n",
       "10000013       28712       ATLANTA GA     2016         Cash   Male   53   \n",
       "10000014       28020       ATLANTA GA     2016         Cash   Male   23   \n",
       "10000015       27182       ATLANTA GA     2016         Card   Male   33   \n",
       "...                                        ...          ...    ...  ...   \n",
       "10440101       52392       WASHINGTON DC  2018         Cash   Male   24   \n",
       "10440104       53286       WASHINGTON DC  2018         Cash   Male   32   \n",
       "10440105       52265       WASHINGTON DC  2018         Cash   Male   56   \n",
       "10440106       52175       WASHINGTON DC  2018         Card   Male   32   \n",
       "10440107       52917       WASHINGTON DC  2018         Card   Male   20   \n",
       "\n",
       "                                          Income_(USD/Month) Population  \\\n",
       "Transaction_ID Customer_ID City                                           \n",
       "10000011       29290       ATLANTA GA                  10813   814,885    \n",
       "10000012       27703       ATLANTA GA                   9237   814,885    \n",
       "10000013       28712       ATLANTA GA                  11242   814,885    \n",
       "10000014       28020       ATLANTA GA                  23327   814,885    \n",
       "10000015       27182       ATLANTA GA                   8536   814,885    \n",
       "...                                                      ...        ...   \n",
       "10440101       52392       WASHINGTON DC               15651   418,859    \n",
       "10440104       53286       WASHINGTON DC                6528   418,859    \n",
       "10440105       52265       WASHINGTON DC                7966   418,859    \n",
       "10440106       52175       WASHINGTON DC                6423   418,859    \n",
       "10440107       52917       WASHINGTON DC               11284   418,859    \n",
       "\n",
       "                                              Users  \n",
       "Transaction_ID Customer_ID City                      \n",
       "10000011       29290       ATLANTA GA       24,701   \n",
       "10000012       27703       ATLANTA GA       24,701   \n",
       "10000013       28712       ATLANTA GA       24,701   \n",
       "10000014       28020       ATLANTA GA       24,701   \n",
       "10000015       27182       ATLANTA GA       24,701   \n",
       "...                                             ...  \n",
       "10440101       52392       WASHINGTON DC   127,001   \n",
       "10440104       53286       WASHINGTON DC   127,001   \n",
       "10440105       52265       WASHINGTON DC   127,001   \n",
       "10440106       52175       WASHINGTON DC   127,001   \n",
       "10440107       52917       WASHINGTON DC   127,001   \n",
       "\n",
       "[359392 rows x 12 columns]"
      ]
     },
     "execution_count": 21,
     "metadata": {},
     "output_type": "execute_result"
    }
   ],
   "source": [
    "\n",
    "left = data.set_index([data.index,'City'])\n",
    "right = City.set_index(['City'])\n",
    "data = left.join(right)\n",
    "data"
   ]
  },
  {
   "cell_type": "code",
   "execution_count": 22,
   "id": "fec5e5b6",
   "metadata": {},
   "outputs": [],
   "source": [
    "\n",
    "data['Profit'] = data['Price_Charged'] - data['Cost_of_Trip']"
   ]
  },
  {
   "cell_type": "code",
   "execution_count": 23,
   "id": "119b5ff1",
   "metadata": {},
   "outputs": [
    {
     "data": {
      "text/html": [
       "<div>\n",
       "<style scoped>\n",
       "    .dataframe tbody tr th:only-of-type {\n",
       "        vertical-align: middle;\n",
       "    }\n",
       "\n",
       "    .dataframe tbody tr th {\n",
       "        vertical-align: top;\n",
       "    }\n",
       "\n",
       "    .dataframe thead th {\n",
       "        text-align: right;\n",
       "    }\n",
       "</style>\n",
       "<table border=\"1\" class=\"dataframe\">\n",
       "  <thead>\n",
       "    <tr style=\"text-align: right;\">\n",
       "      <th></th>\n",
       "      <th></th>\n",
       "      <th></th>\n",
       "      <th>Company</th>\n",
       "      <th>KM_Travelled</th>\n",
       "      <th>Price_Charged</th>\n",
       "      <th>Cost_of_Trip</th>\n",
       "      <th>Month</th>\n",
       "      <th>Year</th>\n",
       "      <th>Payment_Mode</th>\n",
       "      <th>Gender</th>\n",
       "      <th>Age</th>\n",
       "      <th>Income_(USD/Month)</th>\n",
       "      <th>Population</th>\n",
       "      <th>Users</th>\n",
       "      <th>Profit</th>\n",
       "    </tr>\n",
       "    <tr>\n",
       "      <th>Transaction_ID</th>\n",
       "      <th>Customer_ID</th>\n",
       "      <th>City</th>\n",
       "      <th></th>\n",
       "      <th></th>\n",
       "      <th></th>\n",
       "      <th></th>\n",
       "      <th></th>\n",
       "      <th></th>\n",
       "      <th></th>\n",
       "      <th></th>\n",
       "      <th></th>\n",
       "      <th></th>\n",
       "      <th></th>\n",
       "      <th></th>\n",
       "      <th></th>\n",
       "    </tr>\n",
       "  </thead>\n",
       "  <tbody>\n",
       "    <tr>\n",
       "      <th>10000011</th>\n",
       "      <th>29290</th>\n",
       "      <th>ATLANTA GA</th>\n",
       "      <td>Pink Cab</td>\n",
       "      <td>30.45</td>\n",
       "      <td>370.95</td>\n",
       "      <td>313.6350</td>\n",
       "      <td>1</td>\n",
       "      <td>2016</td>\n",
       "      <td>Card</td>\n",
       "      <td>Male</td>\n",
       "      <td>28</td>\n",
       "      <td>10813</td>\n",
       "      <td>814,885</td>\n",
       "      <td>24,701</td>\n",
       "      <td>57.3150</td>\n",
       "    </tr>\n",
       "    <tr>\n",
       "      <th>10000012</th>\n",
       "      <th>27703</th>\n",
       "      <th>ATLANTA GA</th>\n",
       "      <td>Pink Cab</td>\n",
       "      <td>28.62</td>\n",
       "      <td>358.52</td>\n",
       "      <td>334.8540</td>\n",
       "      <td>1</td>\n",
       "      <td>2016</td>\n",
       "      <td>Card</td>\n",
       "      <td>Male</td>\n",
       "      <td>27</td>\n",
       "      <td>9237</td>\n",
       "      <td>814,885</td>\n",
       "      <td>24,701</td>\n",
       "      <td>23.6660</td>\n",
       "    </tr>\n",
       "    <tr>\n",
       "      <th>10000013</th>\n",
       "      <th>28712</th>\n",
       "      <th>ATLANTA GA</th>\n",
       "      <td>Pink Cab</td>\n",
       "      <td>9.04</td>\n",
       "      <td>125.20</td>\n",
       "      <td>97.6320</td>\n",
       "      <td>1</td>\n",
       "      <td>2016</td>\n",
       "      <td>Cash</td>\n",
       "      <td>Male</td>\n",
       "      <td>53</td>\n",
       "      <td>11242</td>\n",
       "      <td>814,885</td>\n",
       "      <td>24,701</td>\n",
       "      <td>27.5680</td>\n",
       "    </tr>\n",
       "    <tr>\n",
       "      <th>10000014</th>\n",
       "      <th>28020</th>\n",
       "      <th>ATLANTA GA</th>\n",
       "      <td>Pink Cab</td>\n",
       "      <td>33.17</td>\n",
       "      <td>377.40</td>\n",
       "      <td>351.6020</td>\n",
       "      <td>1</td>\n",
       "      <td>2016</td>\n",
       "      <td>Cash</td>\n",
       "      <td>Male</td>\n",
       "      <td>23</td>\n",
       "      <td>23327</td>\n",
       "      <td>814,885</td>\n",
       "      <td>24,701</td>\n",
       "      <td>25.7980</td>\n",
       "    </tr>\n",
       "    <tr>\n",
       "      <th>10000015</th>\n",
       "      <th>27182</th>\n",
       "      <th>ATLANTA GA</th>\n",
       "      <td>Pink Cab</td>\n",
       "      <td>8.73</td>\n",
       "      <td>114.62</td>\n",
       "      <td>97.7760</td>\n",
       "      <td>1</td>\n",
       "      <td>2016</td>\n",
       "      <td>Card</td>\n",
       "      <td>Male</td>\n",
       "      <td>33</td>\n",
       "      <td>8536</td>\n",
       "      <td>814,885</td>\n",
       "      <td>24,701</td>\n",
       "      <td>16.8440</td>\n",
       "    </tr>\n",
       "    <tr>\n",
       "      <th>...</th>\n",
       "      <th>...</th>\n",
       "      <th>...</th>\n",
       "      <td>...</td>\n",
       "      <td>...</td>\n",
       "      <td>...</td>\n",
       "      <td>...</td>\n",
       "      <td>...</td>\n",
       "      <td>...</td>\n",
       "      <td>...</td>\n",
       "      <td>...</td>\n",
       "      <td>...</td>\n",
       "      <td>...</td>\n",
       "      <td>...</td>\n",
       "      <td>...</td>\n",
       "      <td>...</td>\n",
       "    </tr>\n",
       "    <tr>\n",
       "      <th>10440101</th>\n",
       "      <th>52392</th>\n",
       "      <th>WASHINGTON DC</th>\n",
       "      <td>Yellow Cab</td>\n",
       "      <td>4.80</td>\n",
       "      <td>69.24</td>\n",
       "      <td>63.3600</td>\n",
       "      <td>1</td>\n",
       "      <td>2018</td>\n",
       "      <td>Cash</td>\n",
       "      <td>Male</td>\n",
       "      <td>24</td>\n",
       "      <td>15651</td>\n",
       "      <td>418,859</td>\n",
       "      <td>127,001</td>\n",
       "      <td>5.8800</td>\n",
       "    </tr>\n",
       "    <tr>\n",
       "      <th>10440104</th>\n",
       "      <th>53286</th>\n",
       "      <th>WASHINGTON DC</th>\n",
       "      <td>Yellow Cab</td>\n",
       "      <td>8.40</td>\n",
       "      <td>113.75</td>\n",
       "      <td>106.8480</td>\n",
       "      <td>1</td>\n",
       "      <td>2018</td>\n",
       "      <td>Cash</td>\n",
       "      <td>Male</td>\n",
       "      <td>32</td>\n",
       "      <td>6528</td>\n",
       "      <td>418,859</td>\n",
       "      <td>127,001</td>\n",
       "      <td>6.9020</td>\n",
       "    </tr>\n",
       "    <tr>\n",
       "      <th>10440105</th>\n",
       "      <th>52265</th>\n",
       "      <th>WASHINGTON DC</th>\n",
       "      <td>Yellow Cab</td>\n",
       "      <td>27.75</td>\n",
       "      <td>437.07</td>\n",
       "      <td>349.6500</td>\n",
       "      <td>1</td>\n",
       "      <td>2018</td>\n",
       "      <td>Cash</td>\n",
       "      <td>Male</td>\n",
       "      <td>56</td>\n",
       "      <td>7966</td>\n",
       "      <td>418,859</td>\n",
       "      <td>127,001</td>\n",
       "      <td>87.4200</td>\n",
       "    </tr>\n",
       "    <tr>\n",
       "      <th>10440106</th>\n",
       "      <th>52175</th>\n",
       "      <th>WASHINGTON DC</th>\n",
       "      <td>Yellow Cab</td>\n",
       "      <td>8.80</td>\n",
       "      <td>146.19</td>\n",
       "      <td>114.0480</td>\n",
       "      <td>1</td>\n",
       "      <td>2018</td>\n",
       "      <td>Card</td>\n",
       "      <td>Male</td>\n",
       "      <td>32</td>\n",
       "      <td>6423</td>\n",
       "      <td>418,859</td>\n",
       "      <td>127,001</td>\n",
       "      <td>32.1420</td>\n",
       "    </tr>\n",
       "    <tr>\n",
       "      <th>10440107</th>\n",
       "      <th>52917</th>\n",
       "      <th>WASHINGTON DC</th>\n",
       "      <td>Yellow Cab</td>\n",
       "      <td>12.76</td>\n",
       "      <td>191.58</td>\n",
       "      <td>177.6192</td>\n",
       "      <td>1</td>\n",
       "      <td>2018</td>\n",
       "      <td>Card</td>\n",
       "      <td>Male</td>\n",
       "      <td>20</td>\n",
       "      <td>11284</td>\n",
       "      <td>418,859</td>\n",
       "      <td>127,001</td>\n",
       "      <td>13.9608</td>\n",
       "    </tr>\n",
       "  </tbody>\n",
       "</table>\n",
       "<p>359392 rows × 13 columns</p>\n",
       "</div>"
      ],
      "text/plain": [
       "                                             Company  KM_Travelled  \\\n",
       "Transaction_ID Customer_ID City                                      \n",
       "10000011       29290       ATLANTA GA       Pink Cab         30.45   \n",
       "10000012       27703       ATLANTA GA       Pink Cab         28.62   \n",
       "10000013       28712       ATLANTA GA       Pink Cab          9.04   \n",
       "10000014       28020       ATLANTA GA       Pink Cab         33.17   \n",
       "10000015       27182       ATLANTA GA       Pink Cab          8.73   \n",
       "...                                              ...           ...   \n",
       "10440101       52392       WASHINGTON DC  Yellow Cab          4.80   \n",
       "10440104       53286       WASHINGTON DC  Yellow Cab          8.40   \n",
       "10440105       52265       WASHINGTON DC  Yellow Cab         27.75   \n",
       "10440106       52175       WASHINGTON DC  Yellow Cab          8.80   \n",
       "10440107       52917       WASHINGTON DC  Yellow Cab         12.76   \n",
       "\n",
       "                                          Price_Charged  Cost_of_Trip  Month  \\\n",
       "Transaction_ID Customer_ID City                                                \n",
       "10000011       29290       ATLANTA GA            370.95      313.6350      1   \n",
       "10000012       27703       ATLANTA GA            358.52      334.8540      1   \n",
       "10000013       28712       ATLANTA GA            125.20       97.6320      1   \n",
       "10000014       28020       ATLANTA GA            377.40      351.6020      1   \n",
       "10000015       27182       ATLANTA GA            114.62       97.7760      1   \n",
       "...                                                 ...           ...    ...   \n",
       "10440101       52392       WASHINGTON DC          69.24       63.3600      1   \n",
       "10440104       53286       WASHINGTON DC         113.75      106.8480      1   \n",
       "10440105       52265       WASHINGTON DC         437.07      349.6500      1   \n",
       "10440106       52175       WASHINGTON DC         146.19      114.0480      1   \n",
       "10440107       52917       WASHINGTON DC         191.58      177.6192      1   \n",
       "\n",
       "                                          Year Payment_Mode Gender  Age  \\\n",
       "Transaction_ID Customer_ID City                                           \n",
       "10000011       29290       ATLANTA GA     2016         Card   Male   28   \n",
       "10000012       27703       ATLANTA GA     2016         Card   Male   27   \n",
       "10000013       28712       ATLANTA GA     2016         Cash   Male   53   \n",
       "10000014       28020       ATLANTA GA     2016         Cash   Male   23   \n",
       "10000015       27182       ATLANTA GA     2016         Card   Male   33   \n",
       "...                                        ...          ...    ...  ...   \n",
       "10440101       52392       WASHINGTON DC  2018         Cash   Male   24   \n",
       "10440104       53286       WASHINGTON DC  2018         Cash   Male   32   \n",
       "10440105       52265       WASHINGTON DC  2018         Cash   Male   56   \n",
       "10440106       52175       WASHINGTON DC  2018         Card   Male   32   \n",
       "10440107       52917       WASHINGTON DC  2018         Card   Male   20   \n",
       "\n",
       "                                          Income_(USD/Month) Population  \\\n",
       "Transaction_ID Customer_ID City                                           \n",
       "10000011       29290       ATLANTA GA                  10813   814,885    \n",
       "10000012       27703       ATLANTA GA                   9237   814,885    \n",
       "10000013       28712       ATLANTA GA                  11242   814,885    \n",
       "10000014       28020       ATLANTA GA                  23327   814,885    \n",
       "10000015       27182       ATLANTA GA                   8536   814,885    \n",
       "...                                                      ...        ...   \n",
       "10440101       52392       WASHINGTON DC               15651   418,859    \n",
       "10440104       53286       WASHINGTON DC                6528   418,859    \n",
       "10440105       52265       WASHINGTON DC                7966   418,859    \n",
       "10440106       52175       WASHINGTON DC                6423   418,859    \n",
       "10440107       52917       WASHINGTON DC               11284   418,859    \n",
       "\n",
       "                                              Users   Profit  \n",
       "Transaction_ID Customer_ID City                               \n",
       "10000011       29290       ATLANTA GA       24,701   57.3150  \n",
       "10000012       27703       ATLANTA GA       24,701   23.6660  \n",
       "10000013       28712       ATLANTA GA       24,701   27.5680  \n",
       "10000014       28020       ATLANTA GA       24,701   25.7980  \n",
       "10000015       27182       ATLANTA GA       24,701   16.8440  \n",
       "...                                             ...      ...  \n",
       "10440101       52392       WASHINGTON DC   127,001    5.8800  \n",
       "10440104       53286       WASHINGTON DC   127,001    6.9020  \n",
       "10440105       52265       WASHINGTON DC   127,001   87.4200  \n",
       "10440106       52175       WASHINGTON DC   127,001   32.1420  \n",
       "10440107       52917       WASHINGTON DC   127,001   13.9608  \n",
       "\n",
       "[359392 rows x 13 columns]"
      ]
     },
     "execution_count": 23,
     "metadata": {},
     "output_type": "execute_result"
    }
   ],
   "source": [
    "data"
   ]
  },
  {
   "cell_type": "code",
   "execution_count": 24,
   "id": "f7fee105",
   "metadata": {},
   "outputs": [
    {
     "data": {
      "text/plain": [
       "(359392, 13)"
      ]
     },
     "execution_count": 24,
     "metadata": {},
     "output_type": "execute_result"
    }
   ],
   "source": [
    "data.shape"
   ]
  },
  {
   "cell_type": "code",
   "execution_count": 25,
   "id": "daca00c2",
   "metadata": {},
   "outputs": [
    {
     "data": {
      "text/html": [
       "<div>\n",
       "<style scoped>\n",
       "    .dataframe tbody tr th:only-of-type {\n",
       "        vertical-align: middle;\n",
       "    }\n",
       "\n",
       "    .dataframe tbody tr th {\n",
       "        vertical-align: top;\n",
       "    }\n",
       "\n",
       "    .dataframe thead th {\n",
       "        text-align: right;\n",
       "    }\n",
       "</style>\n",
       "<table border=\"1\" class=\"dataframe\">\n",
       "  <thead>\n",
       "    <tr style=\"text-align: right;\">\n",
       "      <th></th>\n",
       "      <th>KM_Travelled</th>\n",
       "      <th>Price_Charged</th>\n",
       "      <th>Cost_of_Trip</th>\n",
       "      <th>Month</th>\n",
       "      <th>Year</th>\n",
       "      <th>Age</th>\n",
       "      <th>Income_(USD/Month)</th>\n",
       "      <th>Profit</th>\n",
       "    </tr>\n",
       "  </thead>\n",
       "  <tbody>\n",
       "    <tr>\n",
       "      <th>count</th>\n",
       "      <td>359392.000000</td>\n",
       "      <td>359392.000000</td>\n",
       "      <td>359392.000000</td>\n",
       "      <td>359392.000000</td>\n",
       "      <td>359392.000000</td>\n",
       "      <td>359392.000000</td>\n",
       "      <td>359392.000000</td>\n",
       "      <td>359392.000000</td>\n",
       "    </tr>\n",
       "    <tr>\n",
       "      <th>mean</th>\n",
       "      <td>22.567254</td>\n",
       "      <td>423.443311</td>\n",
       "      <td>286.190113</td>\n",
       "      <td>7.500434</td>\n",
       "      <td>2017.045199</td>\n",
       "      <td>35.336705</td>\n",
       "      <td>15048.822937</td>\n",
       "      <td>137.253198</td>\n",
       "    </tr>\n",
       "    <tr>\n",
       "      <th>std</th>\n",
       "      <td>12.233526</td>\n",
       "      <td>274.378911</td>\n",
       "      <td>157.993661</td>\n",
       "      <td>3.445095</td>\n",
       "      <td>0.800239</td>\n",
       "      <td>12.594234</td>\n",
       "      <td>7969.409482</td>\n",
       "      <td>160.311840</td>\n",
       "    </tr>\n",
       "    <tr>\n",
       "      <th>min</th>\n",
       "      <td>1.900000</td>\n",
       "      <td>15.600000</td>\n",
       "      <td>19.000000</td>\n",
       "      <td>1.000000</td>\n",
       "      <td>2016.000000</td>\n",
       "      <td>18.000000</td>\n",
       "      <td>2000.000000</td>\n",
       "      <td>-220.060000</td>\n",
       "    </tr>\n",
       "    <tr>\n",
       "      <th>25%</th>\n",
       "      <td>12.000000</td>\n",
       "      <td>206.437500</td>\n",
       "      <td>151.200000</td>\n",
       "      <td>5.000000</td>\n",
       "      <td>2016.000000</td>\n",
       "      <td>25.000000</td>\n",
       "      <td>8424.000000</td>\n",
       "      <td>28.012000</td>\n",
       "    </tr>\n",
       "    <tr>\n",
       "      <th>50%</th>\n",
       "      <td>22.440000</td>\n",
       "      <td>386.360000</td>\n",
       "      <td>282.480000</td>\n",
       "      <td>8.000000</td>\n",
       "      <td>2017.000000</td>\n",
       "      <td>33.000000</td>\n",
       "      <td>14685.000000</td>\n",
       "      <td>81.962000</td>\n",
       "    </tr>\n",
       "    <tr>\n",
       "      <th>75%</th>\n",
       "      <td>32.960000</td>\n",
       "      <td>583.660000</td>\n",
       "      <td>413.683200</td>\n",
       "      <td>10.000000</td>\n",
       "      <td>2018.000000</td>\n",
       "      <td>42.000000</td>\n",
       "      <td>21035.000000</td>\n",
       "      <td>190.030000</td>\n",
       "    </tr>\n",
       "    <tr>\n",
       "      <th>max</th>\n",
       "      <td>48.000000</td>\n",
       "      <td>2048.030000</td>\n",
       "      <td>691.200000</td>\n",
       "      <td>12.000000</td>\n",
       "      <td>2018.000000</td>\n",
       "      <td>65.000000</td>\n",
       "      <td>35000.000000</td>\n",
       "      <td>1463.966000</td>\n",
       "    </tr>\n",
       "  </tbody>\n",
       "</table>\n",
       "</div>"
      ],
      "text/plain": [
       "        KM_Travelled  Price_Charged   Cost_of_Trip          Month  \\\n",
       "count  359392.000000  359392.000000  359392.000000  359392.000000   \n",
       "mean       22.567254     423.443311     286.190113       7.500434   \n",
       "std        12.233526     274.378911     157.993661       3.445095   \n",
       "min         1.900000      15.600000      19.000000       1.000000   \n",
       "25%        12.000000     206.437500     151.200000       5.000000   \n",
       "50%        22.440000     386.360000     282.480000       8.000000   \n",
       "75%        32.960000     583.660000     413.683200      10.000000   \n",
       "max        48.000000    2048.030000     691.200000      12.000000   \n",
       "\n",
       "                Year            Age  Income_(USD/Month)         Profit  \n",
       "count  359392.000000  359392.000000       359392.000000  359392.000000  \n",
       "mean     2017.045199      35.336705        15048.822937     137.253198  \n",
       "std         0.800239      12.594234         7969.409482     160.311840  \n",
       "min      2016.000000      18.000000         2000.000000    -220.060000  \n",
       "25%      2016.000000      25.000000         8424.000000      28.012000  \n",
       "50%      2017.000000      33.000000        14685.000000      81.962000  \n",
       "75%      2018.000000      42.000000        21035.000000     190.030000  \n",
       "max      2018.000000      65.000000        35000.000000    1463.966000  "
      ]
     },
     "execution_count": 25,
     "metadata": {},
     "output_type": "execute_result"
    }
   ],
   "source": [
    "data.describe()"
   ]
  },
  {
   "cell_type": "code",
   "execution_count": 26,
   "id": "e3dc077a",
   "metadata": {},
   "outputs": [
    {
     "name": "stdout",
     "output_type": "stream",
     "text": [
      "<class 'pandas.core.frame.DataFrame'>\n",
      "MultiIndex: 359392 entries, (10000011, 29290, 'ATLANTA GA') to (10440107, 52917, 'WASHINGTON DC')\n",
      "Data columns (total 13 columns):\n",
      " #   Column              Non-Null Count   Dtype  \n",
      "---  ------              --------------   -----  \n",
      " 0   Company             359392 non-null  object \n",
      " 1   KM_Travelled        359392 non-null  float64\n",
      " 2   Price_Charged       359392 non-null  float64\n",
      " 3   Cost_of_Trip        359392 non-null  float64\n",
      " 4   Month               359392 non-null  int64  \n",
      " 5   Year                359392 non-null  int64  \n",
      " 6   Payment_Mode        359392 non-null  object \n",
      " 7   Gender              359392 non-null  object \n",
      " 8   Age                 359392 non-null  int64  \n",
      " 9   Income_(USD/Month)  359392 non-null  int64  \n",
      " 10  Population          359392 non-null  object \n",
      " 11  Users               359392 non-null  object \n",
      " 12  Profit              359392 non-null  float64\n",
      "dtypes: float64(4), int64(4), object(5)\n",
      "memory usage: 50.9+ MB\n"
     ]
    }
   ],
   "source": [
    "data.info()"
   ]
  },
  {
   "cell_type": "code",
   "execution_count": 27,
   "id": "04890b8f",
   "metadata": {},
   "outputs": [
    {
     "data": {
      "text/plain": [
       "0"
      ]
     },
     "execution_count": 27,
     "metadata": {},
     "output_type": "execute_result"
    }
   ],
   "source": [
    "data.drop_duplicates(inplace=True) \n",
    "sum(Cab_Data.duplicated())"
   ]
  },
  {
   "cell_type": "code",
   "execution_count": 28,
   "id": "3adc5e51",
   "metadata": {},
   "outputs": [
    {
     "data": {
      "text/plain": [
       "Company                    2\n",
       "KM_Travelled             874\n",
       "Price_Charged          99176\n",
       "Cost_of_Trip           16291\n",
       "Month                     12\n",
       "Year                       3\n",
       "Payment_Mode               2\n",
       "Gender                     2\n",
       "Age                       48\n",
       "Income_(USD/Month)     22725\n",
       "Population                19\n",
       "Users                     19\n",
       "Profit                301825\n",
       "dtype: int64"
      ]
     },
     "execution_count": 28,
     "metadata": {},
     "output_type": "execute_result"
    }
   ],
   "source": [
    "data.nunique()"
   ]
  },
  {
   "cell_type": "code",
   "execution_count": 29,
   "id": "47da4818",
   "metadata": {},
   "outputs": [
    {
     "data": {
      "text/plain": [
       "Company               0\n",
       "KM_Travelled          0\n",
       "Price_Charged         0\n",
       "Cost_of_Trip          0\n",
       "Month                 0\n",
       "Year                  0\n",
       "Payment_Mode          0\n",
       "Gender                0\n",
       "Age                   0\n",
       "Income_(USD/Month)    0\n",
       "Population            0\n",
       "Users                 0\n",
       "Profit                0\n",
       "dtype: int64"
      ]
     },
     "execution_count": 29,
     "metadata": {},
     "output_type": "execute_result"
    }
   ],
   "source": [
    "data.isnull().sum()"
   ]
  },
  {
   "cell_type": "code",
   "execution_count": 57,
   "id": "f3f66855",
   "metadata": {},
   "outputs": [
    {
     "data": {
      "text/plain": [
       "<AxesSubplot:ylabel='City,Company'>"
      ]
     },
     "execution_count": 57,
     "metadata": {},
     "output_type": "execute_result"
    },
    {
     "data": {
      "image/png": "[encoded data removed]",
      "text/plain": [
       "<Figure size 1080x1368 with 1 Axes>"
      ]
     },
     "metadata": {
      "needs_background": "light"
     },
     "output_type": "display_data"
    }
   ],
   "source": [
    "\n",
    "matplt.figure(figsize=(15, 19))\n",
    "groupby_City = data.groupby('City')\n",
    "groupby_City['Company'].value_counts().sort_values(ascending=True).plot.barh(color = \"Green\")"
   ]
  },
  {
   "cell_type": "code",
   "execution_count": 31,
   "id": "8edb15b0",
   "metadata": {},
   "outputs": [
    {
     "data": {
      "text/plain": [
       "City            Company   \n",
       "ATLANTA GA      Yellow Cab     5795\n",
       "                Pink Cab       1762\n",
       "AUSTIN TX       Yellow Cab     3028\n",
       "                Pink Cab       1868\n",
       "BOSTON MA       Yellow Cab    24506\n",
       "                Pink Cab       5186\n",
       "CHICAGO IL      Yellow Cab    47264\n",
       "                Pink Cab       9361\n",
       "DALLAS TX       Yellow Cab     5637\n",
       "                Pink Cab       1380\n",
       "DENVER CO       Yellow Cab     2431\n",
       "                Pink Cab       1394\n",
       "LOS ANGELES CA  Yellow Cab    28168\n",
       "                Pink Cab      19865\n",
       "MIAMI FL        Yellow Cab     4452\n",
       "                Pink Cab       2002\n",
       "NASHVILLE TN    Pink Cab       1841\n",
       "                Yellow Cab     1169\n",
       "NEW YORK NY     Yellow Cab    85918\n",
       "                Pink Cab      13967\n",
       "ORANGE COUNTY   Yellow Cab     2469\n",
       "                Pink Cab       1513\n",
       "PHOENIX AZ      Yellow Cab     1200\n",
       "                Pink Cab        864\n",
       "PITTSBURGH PA   Pink Cab        682\n",
       "                Yellow Cab      631\n",
       "SACRAMENTO CA   Pink Cab       1334\n",
       "                Yellow Cab     1033\n",
       "SAN DIEGO CA    Pink Cab      10672\n",
       "                Yellow Cab     9816\n",
       "SEATTLE WA      Yellow Cab     5265\n",
       "                Pink Cab       2732\n",
       "SILICON VALLEY  Yellow Cab     4722\n",
       "                Pink Cab       3797\n",
       "TUCSON AZ       Yellow Cab     1132\n",
       "                Pink Cab        799\n",
       "WASHINGTON DC   Yellow Cab    40045\n",
       "                Pink Cab       3692\n",
       "Name: Company, dtype: int64"
      ]
     },
     "execution_count": 31,
     "metadata": {},
     "output_type": "execute_result"
    }
   ],
   "source": [
    "groupby_City = data.groupby('City')\n",
    "groupby_City['Company'].value_counts()"
   ]
  },
  {
   "cell_type": "code",
   "execution_count": 32,
   "id": "9a4eb976",
   "metadata": {},
   "outputs": [
    {
     "data": {
      "text/plain": [
       "Text(0, 0.5, 'Yearly Profit')"
      ]
     },
     "execution_count": 32,
     "metadata": {},
     "output_type": "execute_result"
    },
    {
     "data": {
      "image/png": "[encoded data removed]",
      "text/plain": [
       "<Figure size 432x288 with 1 Axes>"
      ]
     },
     "metadata": {
      "needs_background": "light"
     },
     "output_type": "display_data"
    },
    {
     "data": {
      "image/png": "[encoded data removed]",
      "text/plain": [
       "<Figure size 432x288 with 1 Axes>"
      ]
     },
     "metadata": {
      "needs_background": "light"
     },
     "output_type": "display_data"
    }
   ],
   "source": [
    "Yearly_group = data.groupby(['Year'])\n",
    "(Yearly_group[['Profit']].median().plot.bar(color= \"Green\"))\n",
    "\n",
    "((Yearly_group[['Profit']].mean())).plot.barh(color= \"Red\").plot(kind='bar', figsize=(14,8))\n",
    "matplt.ylabel(\"Yearly Profit\")"
   ]
  },
  {
   "cell_type": "code",
   "execution_count": 33,
   "id": "842e88e2",
   "metadata": {},
   "outputs": [
    {
     "data": {
      "text/plain": [
       "Text(0, 0.5, 'Monthly Profit')"
      ]
     },
     "execution_count": 33,
     "metadata": {},
     "output_type": "execute_result"
    },
    {
     "data": {
      "image/png": "[encoded data removed]",
      "text/plain": [
       "<Figure size 432x288 with 1 Axes>"
      ]
     },
     "metadata": {
      "needs_background": "light"
     },
     "output_type": "display_data"
    },
    {
     "data": {
      "image/png": "[encoded data removed]",
      "text/plain": [
       "<Figure size 432x288 with 1 Axes>"
      ]
     },
     "metadata": {
      "needs_background": "light"
     },
     "output_type": "display_data"
    }
   ],
   "source": [
    "Monthly_group = data.groupby(['Month'])\n",
    "(Monthly_group[['Profit']].median().plot.bar(color= \"Green\"))\n",
    "\n",
    "((Monthly_group[['Profit']].mean()).plot.barh(color= \"Red\")).plot(kind='bar', figsize=(14,8))\n",
    "matplt.ylabel(\"Monthly Profit\")"
   ]
  },
  {
   "cell_type": "code",
   "execution_count": 61,
   "id": "db52b698",
   "metadata": {},
   "outputs": [
    {
     "data": {
      "text/plain": [
       "Text(0, 0.5, 'Profit')"
      ]
     },
     "execution_count": 61,
     "metadata": {},
     "output_type": "execute_result"
    },
    {
     "data": {
      "image/png": "[encoded data removed]",
      "text/plain": [
       "<Figure size 1008x576 with 1 Axes>"
      ]
     },
     "metadata": {
      "needs_background": "light"
     },
     "output_type": "display_data"
    }
   ],
   "source": [
    "((groupby_City[['Profit']].mean())).plot(kind='barh', figsize=(14, 8), color = \"orange\")\n",
    "matplt.ylabel(\"Profit\")"
   ]
  },
  {
   "cell_type": "code",
   "execution_count": 34,
   "id": "ad3e89c5",
   "metadata": {},
   "outputs": [
    {
     "data": {
      "image/png": "[encoded data removed]",
      "text/plain": [
       "<Figure size 1008x576 with 1 Axes>"
      ]
     },
     "metadata": {
      "needs_background": "light"
     },
     "output_type": "display_data"
    }
   ],
   "source": [
    "matplt.figure(figsize=(14,8))\n",
    "matplt.hist(data.Age, bins=10, color='pink')\n",
    "matplt.show()"
   ]
  },
  {
   "cell_type": "code",
   "execution_count": 35,
   "id": "de641f67",
   "metadata": {},
   "outputs": [
    {
     "data": {
      "text/plain": [
       "Text(0, 0.5, 'Profit')"
      ]
     },
     "execution_count": 35,
     "metadata": {},
     "output_type": "execute_result"
    },
    {
     "data": {
      "image/png": "[encoded data removed]",
      "text/plain": [
       "<Figure size 1080x504 with 1 Axes>"
      ]
     },
     "metadata": {
      "needs_background": "light"
     },
     "output_type": "display_data"
    }
   ],
   "source": [
    "(data.pivot_table(index='Company', \n",
    "                  columns='Year', values='Profit', \n",
    "                  aggfunc='sum')).plot(kind='bar', \n",
    "                                       figsize=(15,7), \n",
    "                                       title='Profit Analysis')\n",
    "matplt.ylabel(\"Profit\")"
   ]
  },
  {
   "cell_type": "code",
   "execution_count": 58,
   "id": "16bf8740",
   "metadata": {},
   "outputs": [
    {
     "data": {
      "image/png": "[encoded data removed]",
      "text/plain": [
       "<Figure size 1080x720 with 1 Axes>"
      ]
     },
     "metadata": {
      "needs_background": "light"
     },
     "output_type": "display_data"
    }
   ],
   "source": [
    "(groupby_City['Income_(USD/Month)'].agg(['min', 'max'])).plot(kind='bar', figsize=(15,10)); "
   ]
  },
  {
   "cell_type": "code",
   "execution_count": 37,
   "id": "b4c3b0c6",
   "metadata": {},
   "outputs": [
    {
     "data": {
      "image/png": "[encoded data removed]",
      "text/plain": [
       "<Figure size 1008x576 with 1 Axes>"
      ]
     },
     "metadata": {
      "needs_background": "light"
     },
     "output_type": "display_data"
    }
   ],
   "source": [
    "matplt.figure(figsize=(14,8))\n",
    "g=sea.countplot(x = 'Gender', data = data);\n",
    "g.set_title('Male and Female')\n",
    "matplt.show()"
   ]
  },
  {
   "cell_type": "code",
   "execution_count": 38,
   "id": "e592b69b",
   "metadata": {},
   "outputs": [
    {
     "data": {
      "text/plain": [
       "Card    215504\n",
       "Cash    143888\n",
       "Name: Payment_Mode, dtype: int64"
      ]
     },
     "execution_count": 38,
     "metadata": {},
     "output_type": "execute_result"
    }
   ],
   "source": [
    "data['Payment_Mode'].value_counts()"
   ]
  },
  {
   "cell_type": "code",
   "execution_count": 39,
   "id": "21af9fbc",
   "metadata": {},
   "outputs": [
    {
     "data": {
      "image/png": "[encoded data removed]",
      "text/plain": [
       "<Figure size 432x288 with 1 Axes>"
      ]
     },
     "metadata": {
      "needs_background": "light"
     },
     "output_type": "display_data"
    }
   ],
   "source": [
    "matplt.hist(data.Payment_Mode)\n",
    "matplt.ylabel(\"Count\")\n",
    "matplt.xlabel(\"Payment Mode\")\n",
    "matplt.show()"
   ]
  },
  {
   "cell_type": "code",
   "execution_count": 56,
   "id": "f2e3f13b",
   "metadata": {},
   "outputs": [
    {
     "name": "stdout",
     "output_type": "stream",
     "text": [
      "<class 'pandas.core.frame.DataFrame'>\n",
      "Int64Index: 274681 entries, 233 to 359391\n",
      "Data columns (total 8 columns):\n",
      " #   Column          Non-Null Count   Dtype  \n",
      "---  ------          --------------   -----  \n",
      " 0   Transaction_ID  274681 non-null  int64  \n",
      " 1   Company         274681 non-null  object \n",
      " 2   City            274681 non-null  object \n",
      " 3   KM_Travelled    274681 non-null  float64\n",
      " 4   Price_Charged   274681 non-null  float64\n",
      " 5   Cost_of_Trip    274681 non-null  float64\n",
      " 6   Month           274681 non-null  int64  \n",
      " 7   Year            274681 non-null  int64  \n",
      "dtypes: float64(3), int64(3), object(2)\n",
      "memory usage: 18.9+ MB\n"
     ]
    }
   ],
   "source": [
    "YellowCab.info()"
   ]
  },
  {
   "cell_type": "code",
   "execution_count": 55,
   "id": "2dbc9714",
   "metadata": {},
   "outputs": [
    {
     "name": "stdout",
     "output_type": "stream",
     "text": [
      "<class 'pandas.core.frame.DataFrame'>\n",
      "Int64Index: 84711 entries, 0 to 357453\n",
      "Data columns (total 8 columns):\n",
      " #   Column          Non-Null Count  Dtype  \n",
      "---  ------          --------------  -----  \n",
      " 0   Transaction_ID  84711 non-null  int64  \n",
      " 1   Company         84711 non-null  object \n",
      " 2   City            84711 non-null  object \n",
      " 3   KM_Travelled    84711 non-null  float64\n",
      " 4   Price_Charged   84711 non-null  float64\n",
      " 5   Cost_of_Trip    84711 non-null  float64\n",
      " 6   Month           84711 non-null  int64  \n",
      " 7   Year            84711 non-null  int64  \n",
      "dtypes: float64(3), int64(3), object(2)\n",
      "memory usage: 5.8+ MB\n"
     ]
    }
   ],
   "source": [
    "PinkCab.info()"
   ]
  },
  {
   "cell_type": "markdown",
   "id": "fe985fff",
   "metadata": {},
   "source": [
    "# Hypothesis section"
   ]
  },
  {
   "cell_type": "code",
   "execution_count": 40,
   "id": "6754269f",
   "metadata": {},
   "outputs": [
    {
     "data": {
      "text/html": [
       "<div>\n",
       "<style scoped>\n",
       "    .dataframe tbody tr th:only-of-type {\n",
       "        vertical-align: middle;\n",
       "    }\n",
       "\n",
       "    .dataframe tbody tr th {\n",
       "        vertical-align: top;\n",
       "    }\n",
       "\n",
       "    .dataframe thead th {\n",
       "        text-align: right;\n",
       "    }\n",
       "</style>\n",
       "<table border=\"1\" class=\"dataframe\">\n",
       "  <thead>\n",
       "    <tr style=\"text-align: right;\">\n",
       "      <th></th>\n",
       "      <th>KM_Travelled</th>\n",
       "      <th>Price_Charged</th>\n",
       "      <th>Cost_of_Trip</th>\n",
       "      <th>Month</th>\n",
       "      <th>Year</th>\n",
       "      <th>Age</th>\n",
       "      <th>Income_(USD/Month)</th>\n",
       "      <th>Profit</th>\n",
       "    </tr>\n",
       "  </thead>\n",
       "  <tbody>\n",
       "    <tr>\n",
       "      <th>count</th>\n",
       "      <td>359392.000000</td>\n",
       "      <td>359392.000000</td>\n",
       "      <td>359392.000000</td>\n",
       "      <td>359392.000000</td>\n",
       "      <td>359392.000000</td>\n",
       "      <td>359392.000000</td>\n",
       "      <td>359392.000000</td>\n",
       "      <td>359392.000000</td>\n",
       "    </tr>\n",
       "    <tr>\n",
       "      <th>mean</th>\n",
       "      <td>22.567254</td>\n",
       "      <td>423.443311</td>\n",
       "      <td>286.190113</td>\n",
       "      <td>7.500434</td>\n",
       "      <td>2017.045199</td>\n",
       "      <td>35.336705</td>\n",
       "      <td>15048.822937</td>\n",
       "      <td>137.253198</td>\n",
       "    </tr>\n",
       "    <tr>\n",
       "      <th>std</th>\n",
       "      <td>12.233526</td>\n",
       "      <td>274.378911</td>\n",
       "      <td>157.993661</td>\n",
       "      <td>3.445095</td>\n",
       "      <td>0.800239</td>\n",
       "      <td>12.594234</td>\n",
       "      <td>7969.409482</td>\n",
       "      <td>160.311840</td>\n",
       "    </tr>\n",
       "    <tr>\n",
       "      <th>min</th>\n",
       "      <td>1.900000</td>\n",
       "      <td>15.600000</td>\n",
       "      <td>19.000000</td>\n",
       "      <td>1.000000</td>\n",
       "      <td>2016.000000</td>\n",
       "      <td>18.000000</td>\n",
       "      <td>2000.000000</td>\n",
       "      <td>-220.060000</td>\n",
       "    </tr>\n",
       "    <tr>\n",
       "      <th>25%</th>\n",
       "      <td>12.000000</td>\n",
       "      <td>206.437500</td>\n",
       "      <td>151.200000</td>\n",
       "      <td>5.000000</td>\n",
       "      <td>2016.000000</td>\n",
       "      <td>25.000000</td>\n",
       "      <td>8424.000000</td>\n",
       "      <td>28.012000</td>\n",
       "    </tr>\n",
       "    <tr>\n",
       "      <th>50%</th>\n",
       "      <td>22.440000</td>\n",
       "      <td>386.360000</td>\n",
       "      <td>282.480000</td>\n",
       "      <td>8.000000</td>\n",
       "      <td>2017.000000</td>\n",
       "      <td>33.000000</td>\n",
       "      <td>14685.000000</td>\n",
       "      <td>81.962000</td>\n",
       "    </tr>\n",
       "    <tr>\n",
       "      <th>75%</th>\n",
       "      <td>32.960000</td>\n",
       "      <td>583.660000</td>\n",
       "      <td>413.683200</td>\n",
       "      <td>10.000000</td>\n",
       "      <td>2018.000000</td>\n",
       "      <td>42.000000</td>\n",
       "      <td>21035.000000</td>\n",
       "      <td>190.030000</td>\n",
       "    </tr>\n",
       "    <tr>\n",
       "      <th>max</th>\n",
       "      <td>48.000000</td>\n",
       "      <td>2048.030000</td>\n",
       "      <td>691.200000</td>\n",
       "      <td>12.000000</td>\n",
       "      <td>2018.000000</td>\n",
       "      <td>65.000000</td>\n",
       "      <td>35000.000000</td>\n",
       "      <td>1463.966000</td>\n",
       "    </tr>\n",
       "  </tbody>\n",
       "</table>\n",
       "</div>"
      ],
      "text/plain": [
       "        KM_Travelled  Price_Charged   Cost_of_Trip          Month  \\\n",
       "count  359392.000000  359392.000000  359392.000000  359392.000000   \n",
       "mean       22.567254     423.443311     286.190113       7.500434   \n",
       "std        12.233526     274.378911     157.993661       3.445095   \n",
       "min         1.900000      15.600000      19.000000       1.000000   \n",
       "25%        12.000000     206.437500     151.200000       5.000000   \n",
       "50%        22.440000     386.360000     282.480000       8.000000   \n",
       "75%        32.960000     583.660000     413.683200      10.000000   \n",
       "max        48.000000    2048.030000     691.200000      12.000000   \n",
       "\n",
       "                Year            Age  Income_(USD/Month)         Profit  \n",
       "count  359392.000000  359392.000000       359392.000000  359392.000000  \n",
       "mean     2017.045199      35.336705        15048.822937     137.253198  \n",
       "std         0.800239      12.594234         7969.409482     160.311840  \n",
       "min      2016.000000      18.000000         2000.000000    -220.060000  \n",
       "25%      2016.000000      25.000000         8424.000000      28.012000  \n",
       "50%      2017.000000      33.000000        14685.000000      81.962000  \n",
       "75%      2018.000000      42.000000        21035.000000     190.030000  \n",
       "max      2018.000000      65.000000        35000.000000    1463.966000  "
      ]
     },
     "execution_count": 40,
     "metadata": {},
     "output_type": "execute_result"
    }
   ],
   "source": [
    "data.describe()"
   ]
  },
  {
   "cell_type": "code",
   "execution_count": 41,
   "id": "c313850b",
   "metadata": {},
   "outputs": [],
   "source": [
    "sample = int((10/100)*len(data))"
   ]
  },
  {
   "cell_type": "code",
   "execution_count": 42,
   "id": "bcac41f6",
   "metadata": {},
   "outputs": [],
   "source": [
    "#KM Travelled"
   ]
  },
  {
   "cell_type": "code",
   "execution_count": 43,
   "id": "8c9c0e8b",
   "metadata": {},
   "outputs": [
    {
     "name": "stdout",
     "output_type": "stream",
     "text": [
      "p-values 0.18169006003306146\n",
      "Accepting null hypothesis\n"
     ]
    }
   ],
   "source": [
    "\n",
    "KM = npy.random.choice(data[\"KM_Travelled\"], sample)\n",
    "tset, pval = ttest_1samp(KM, 22.44)\n",
    "print(\"p-values\",pval)\n",
    "if pval < 0.05:  \n",
    "    print(\"Rejecting null hypothesis\")\n",
    "else:\n",
    "    print(\"Accepting null hypothesis\")"
   ]
  },
  {
   "cell_type": "code",
   "execution_count": 44,
   "id": "b0eb0998",
   "metadata": {},
   "outputs": [],
   "source": [
    "#Price Charged"
   ]
  },
  {
   "cell_type": "code",
   "execution_count": 45,
   "id": "42260daa",
   "metadata": {},
   "outputs": [
    {
     "name": "stdout",
     "output_type": "stream",
     "text": [
      "p-values 0.0\n",
      "Rejecting null hypothesis\n"
     ]
    }
   ],
   "source": [
    "Price = npy.random.choice(data[\"Price_Charged\"],sample)\n",
    "tset, pval = ttest_1samp(Price, 286.19)\n",
    "print(\"p-values\",pval)\n",
    "if pval < 0.05:   \n",
    "    print(\"Rejecting null hypothesis\")\n",
    "else:\n",
    "    print(\"Accepting null hypothesis\")"
   ]
  },
  {
   "cell_type": "code",
   "execution_count": 46,
   "id": "fa9ec320",
   "metadata": {},
   "outputs": [],
   "source": [
    "#Age"
   ]
  },
  {
   "cell_type": "code",
   "execution_count": 47,
   "id": "017b7cc4",
   "metadata": {},
   "outputs": [
    {
     "name": "stdout",
     "output_type": "stream",
     "text": [
      "p-values 2.7448440477267148e-09\n",
      "Rejecting null hypothesis\n"
     ]
    }
   ],
   "source": [
    "age = npy.random.choice(data[\"Age\"],sample)\n",
    "tset, pval = ttest_1samp(age, 35)\n",
    "print(\"p-values\",pval)\n",
    "if pval < 0.05:\n",
    "    print(\"Rejecting null hypothesis\")\n",
    "else:\n",
    "    print(\"Accepting null hypothesis\")"
   ]
  },
  {
   "cell_type": "code",
   "execution_count": 48,
   "id": "bc02889f",
   "metadata": {},
   "outputs": [],
   "source": [
    "#Income"
   ]
  },
  {
   "cell_type": "code",
   "execution_count": 49,
   "id": "fc63a28c",
   "metadata": {},
   "outputs": [
    {
     "name": "stdout",
     "output_type": "stream",
     "text": [
      "p-values 0.2460825218103922\n",
      "Accepting null hypothesis\n"
     ]
    }
   ],
   "source": [
    "Income = npy.random.choice(data[\"Income_(USD/Month)\"],sample)\n",
    "tset, pval = ttest_1samp(Income, 15048.8)\n",
    "print(\"p-values\",pval)\n",
    "if pval < 0.05:    \n",
    "    print(\"Rejecting null hypothesis\")\n",
    "else:\n",
    "    print(\"Accepting null hypothesis\")\n"
   ]
  },
  {
   "cell_type": "code",
   "execution_count": 50,
   "id": "387a360e",
   "metadata": {},
   "outputs": [],
   "source": [
    "#Profit"
   ]
  },
  {
   "cell_type": "code",
   "execution_count": 51,
   "id": "08f9afc4",
   "metadata": {},
   "outputs": [
    {
     "name": "stdout",
     "output_type": "stream",
     "text": [
      "p-values 0.6624853442187473\n",
      "Accepting null hypothesis\n"
     ]
    }
   ],
   "source": [
    "profit = npy.random.choice(data[\"Profit\"],sample)\n",
    "tset, pval = ttest_1samp(profit, 137.25)\n",
    "print(\"p-values\",pval)\n",
    "if pval < 0.05:    \n",
    "    print(\"Rejecting null hypothesis\")\n",
    "else:\n",
    "    print(\"Accepting null hypothesis\")"
   ]
  },
  {
   "cell_type": "markdown",
   "id": "a67b8439",
   "metadata": {},
   "source": [
    "# Summary"
   ]
  },
  {
   "cell_type": "markdown",
   "id": "0ab359ba",
   "metadata": {},
   "source": [
    "No duplicate data was found.\n",
    "No null.\n",
    "New york city has the highest yellow cab.\n",
    "Card is used and preferred most than Cash.\n",
    "Most of the customers are between 20 - 40 years old.\n",
    "NEW YORK NY, DALLAS TX, SILICON VALLEY and MIAMI FL are the top cities with the highest profit."
   ]
  }
 ],
 "metadata": {
  "kernelspec": {
   "display_name": "Python 3 (ipykernel)",
   "language": "python",
   "name": "python3"
  },
  "language_info": {
   "codemirror_mode": {
    "name": "ipython",
    "version": 3
   },
   "file_extension": ".py",
   "mimetype": "text/x-python",
   "name": "python",
   "nbconvert_exporter": "python",
   "pygments_lexer": "ipython3",
   "version": "3.8.10"
  }
 },
 "nbformat": 4,
 "nbformat_minor": 5
}
